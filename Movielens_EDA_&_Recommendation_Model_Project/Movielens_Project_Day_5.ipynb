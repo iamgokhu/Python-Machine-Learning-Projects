{
  "nbformat": 4,
  "nbformat_minor": 0,
  "metadata": {
    "kernelspec": {
      "display_name": "Python 3",
      "language": "python",
      "name": "python3"
    },
    "language_info": {
      "codemirror_mode": {
        "name": "ipython",
        "version": 3
      },
      "file_extension": ".py",
      "mimetype": "text/x-python",
      "name": "python",
      "nbconvert_exporter": "python",
      "pygments_lexer": "ipython3",
      "version": "3.7.3"
    },
    "colab": {
      "name": "Movielens Project - Day 5 Datas.ipynb",
      "version": "0.3.2",
      "provenance": [],
      "collapsed_sections": [],
      "include_colab_link": true
    }
  },
  "cells": [
    {
      "cell_type": "markdown",
      "metadata": {
        "id": "view-in-github",
        "colab_type": "text"
      },
      "source": [
        "<a href=\"https://colab.research.google.com/github/Gokhu18/Movielens_Project/blob/master/Movielens_Project_Day_5_Datas.ipynb\" target=\"_parent\"><img src=\"https://colab.research.google.com/assets/colab-badge.svg\" alt=\"Open In Colab\"/></a>"
      ]
    },
    {
      "cell_type": "markdown",
      "metadata": {
        "id": "gyuGH0jpmMm7",
        "colab_type": "text"
      },
      "source": [
        "### Project: Movielens Dataset Analysis\n",
        "\n",
        "- To perform the analysis using the Exploratory Data Analysis technique. \n",
        "- machine learning to predict the survivors of the tragedy. \n",
        "\n",
        "#### Scope of the Project:\n",
        "\n",
        "##### Step 1:\n",
        "\n",
        "- Data Acquisition of the Movielens Dataset (users, rating, movies)\n",
        "\n",
        "##### Step 2:\n",
        "\n",
        "To Perform the Exploratory Data Analysis (EDA) for the users dataset\n",
        "\n",
        "- Visualize user age distribution\n",
        "- Visualize overall rating by users\n",
        "- Find and visualize the user rating of the movie “Toy Story”\n",
        "- Find and visualize the viewership of the movie “Toy Story” by age group\n",
        "- Find and visualize the top 25 movies by viewership rating\n",
        "- Find the rating for a particular user of user id = 2696\n",
        "- Visualize the rating data by user of user id = 2696\n",
        "\n",
        "##### Step 3 :\n",
        "\n",
        "To Perform machine learning on first 500 extracted records\n",
        "- Features (MovieID, Age,Occupation)\n",
        "- Label (Rating)\n",
        "\n",
        "##### Step 4:\n",
        "\n",
        "To create train and test data set and perform the following:\n",
        "- Create a histogram for movie, age, and occupation"
      ]
    },
    {
      "cell_type": "code",
      "metadata": {
        "id": "ZBMpW6e0mMm9",
        "colab_type": "code",
        "colab": {}
      },
      "source": [
        "# Importing the Library\n",
        "import numpy as np\n",
        "import pandas as pd\n",
        "import matplotlib.pyplot as plt\n",
        "import seaborn as sns\n",
        "%matplotlib inline"
      ],
      "execution_count": 0,
      "outputs": []
    },
    {
      "cell_type": "markdown",
      "metadata": {
        "id": "GvRSPu95mMnB",
        "colab_type": "text"
      },
      "source": [
        "#### Step 1: Data Acquisition"
      ]
    },
    {
      "cell_type": "code",
      "metadata": {
        "id": "O7gR2D_ymMnC",
        "colab_type": "code",
        "colab": {}
      },
      "source": [
        "movies = pd.read_csv('drive/Colab Notebooks/movies.dat', sep = '::', header = None, names = ['MovieID', 'Title', 'Genres'], engine = 'python')\n",
        "ratings = pd.read_csv('drive/Colab Notebooks/ratings.dat', sep = '::', header = None, names = ['UserID','MovieID', 'Rating', 'Timestamp'], engine='python')\n",
        "users = pd.read_csv('drive/Colab Notebooks/users.dat', sep = '::', header = None, names = ['UserID','Gender','Age','Occupation','Zip-code'], engine = 'python')"
      ],
      "execution_count": 0,
      "outputs": []
    },
    {
      "cell_type": "markdown",
      "metadata": {
        "id": "Uzw1KHv_mMnF",
        "colab_type": "text"
      },
      "source": [
        "#### Analysis the Datasets / Preparing Data Profile"
      ]
    },
    {
      "cell_type": "code",
      "metadata": {
        "id": "_ahAmG_hmMnG",
        "colab_type": "code",
        "outputId": "66660d99-b368-45c7-9594-06fe5a5a84d7",
        "colab": {
          "base_uri": "https://localhost:8080/",
          "height": 297
        }
      },
      "source": [
        "movies.describe()"
      ],
      "execution_count": 0,
      "outputs": [
        {
          "output_type": "execute_result",
          "data": {
            "text/html": [
              "<div>\n",
              "<style scoped>\n",
              "    .dataframe tbody tr th:only-of-type {\n",
              "        vertical-align: middle;\n",
              "    }\n",
              "\n",
              "    .dataframe tbody tr th {\n",
              "        vertical-align: top;\n",
              "    }\n",
              "\n",
              "    .dataframe thead th {\n",
              "        text-align: right;\n",
              "    }\n",
              "</style>\n",
              "<table border=\"1\" class=\"dataframe\">\n",
              "  <thead>\n",
              "    <tr style=\"text-align: right;\">\n",
              "      <th></th>\n",
              "      <th>MovieID</th>\n",
              "    </tr>\n",
              "  </thead>\n",
              "  <tbody>\n",
              "    <tr>\n",
              "      <th>count</th>\n",
              "      <td>3883.000000</td>\n",
              "    </tr>\n",
              "    <tr>\n",
              "      <th>mean</th>\n",
              "      <td>1986.049446</td>\n",
              "    </tr>\n",
              "    <tr>\n",
              "      <th>std</th>\n",
              "      <td>1146.778349</td>\n",
              "    </tr>\n",
              "    <tr>\n",
              "      <th>min</th>\n",
              "      <td>1.000000</td>\n",
              "    </tr>\n",
              "    <tr>\n",
              "      <th>25%</th>\n",
              "      <td>982.500000</td>\n",
              "    </tr>\n",
              "    <tr>\n",
              "      <th>50%</th>\n",
              "      <td>2010.000000</td>\n",
              "    </tr>\n",
              "    <tr>\n",
              "      <th>75%</th>\n",
              "      <td>2980.500000</td>\n",
              "    </tr>\n",
              "    <tr>\n",
              "      <th>max</th>\n",
              "      <td>3952.000000</td>\n",
              "    </tr>\n",
              "  </tbody>\n",
              "</table>\n",
              "</div>"
            ],
            "text/plain": [
              "           MovieID\n",
              "count  3883.000000\n",
              "mean   1986.049446\n",
              "std    1146.778349\n",
              "min       1.000000\n",
              "25%     982.500000\n",
              "50%    2010.000000\n",
              "75%    2980.500000\n",
              "max    3952.000000"
            ]
          },
          "metadata": {
            "tags": []
          },
          "execution_count": 3
        }
      ]
    },
    {
      "cell_type": "code",
      "metadata": {
        "id": "qMXcy1ylmMnJ",
        "colab_type": "code",
        "outputId": "51a47fda-a5ed-4bc5-8954-01380b64761c",
        "colab": {
          "base_uri": "https://localhost:8080/",
          "height": 34
        }
      },
      "source": [
        "movies.shape"
      ],
      "execution_count": 0,
      "outputs": [
        {
          "output_type": "execute_result",
          "data": {
            "text/plain": [
              "(3883, 3)"
            ]
          },
          "metadata": {
            "tags": []
          },
          "execution_count": 4
        }
      ]
    },
    {
      "cell_type": "code",
      "metadata": {
        "id": "WeKBCj7kmMnM",
        "colab_type": "code",
        "outputId": "fdd4f75d-7fc4-49cf-b348-a510fb7f0709",
        "colab": {
          "base_uri": "https://localhost:8080/",
          "height": 85
        }
      },
      "source": [
        "movies.isna().sum()"
      ],
      "execution_count": 0,
      "outputs": [
        {
          "output_type": "execute_result",
          "data": {
            "text/plain": [
              "MovieID    0\n",
              "Title      0\n",
              "Genres     0\n",
              "dtype: int64"
            ]
          },
          "metadata": {
            "tags": []
          },
          "execution_count": 5
        }
      ]
    },
    {
      "cell_type": "code",
      "metadata": {
        "id": "CF1b-psJmMnP",
        "colab_type": "code",
        "outputId": "063d7182-7bb8-4abc-d8fe-3f7dd7fbcd12",
        "colab": {
          "base_uri": "https://localhost:8080/",
          "height": 85
        }
      },
      "source": [
        "movies.isnull().sum()"
      ],
      "execution_count": 0,
      "outputs": [
        {
          "output_type": "execute_result",
          "data": {
            "text/plain": [
              "MovieID    0\n",
              "Title      0\n",
              "Genres     0\n",
              "dtype: int64"
            ]
          },
          "metadata": {
            "tags": []
          },
          "execution_count": 6
        }
      ]
    },
    {
      "cell_type": "code",
      "metadata": {
        "id": "vAOpNkWImMnS",
        "colab_type": "code",
        "outputId": "5875a026-3139-4e26-b1e8-bb7310e6b332",
        "colab": {
          "base_uri": "https://localhost:8080/",
          "height": 34
        }
      },
      "source": [
        "users.shape"
      ],
      "execution_count": 0,
      "outputs": [
        {
          "output_type": "execute_result",
          "data": {
            "text/plain": [
              "(6040, 5)"
            ]
          },
          "metadata": {
            "tags": []
          },
          "execution_count": 7
        }
      ]
    },
    {
      "cell_type": "code",
      "metadata": {
        "id": "R_lTHqiKmMnV",
        "colab_type": "code",
        "outputId": "60d3a3dc-fdd6-4baa-b5b7-df4048bd2786",
        "colab": {
          "base_uri": "https://localhost:8080/",
          "height": 119
        }
      },
      "source": [
        "users.isna().sum()"
      ],
      "execution_count": 0,
      "outputs": [
        {
          "output_type": "execute_result",
          "data": {
            "text/plain": [
              "UserID        0\n",
              "Gender        0\n",
              "Age           0\n",
              "Occupation    0\n",
              "Zip-code      0\n",
              "dtype: int64"
            ]
          },
          "metadata": {
            "tags": []
          },
          "execution_count": 8
        }
      ]
    },
    {
      "cell_type": "code",
      "metadata": {
        "id": "sI0j307dmMnY",
        "colab_type": "code",
        "outputId": "f63d8214-aeb1-4548-a0ec-a6a111a6c2ca",
        "colab": {
          "base_uri": "https://localhost:8080/",
          "height": 119
        }
      },
      "source": [
        "users.isnull().sum()"
      ],
      "execution_count": 0,
      "outputs": [
        {
          "output_type": "execute_result",
          "data": {
            "text/plain": [
              "UserID        0\n",
              "Gender        0\n",
              "Age           0\n",
              "Occupation    0\n",
              "Zip-code      0\n",
              "dtype: int64"
            ]
          },
          "metadata": {
            "tags": []
          },
          "execution_count": 9
        }
      ]
    },
    {
      "cell_type": "code",
      "metadata": {
        "id": "rmBs9hhymMnc",
        "colab_type": "code",
        "outputId": "57c73ea0-dc62-415a-e61f-34b7e54e4f66",
        "colab": {
          "base_uri": "https://localhost:8080/",
          "height": 297
        }
      },
      "source": [
        "users.describe()"
      ],
      "execution_count": 0,
      "outputs": [
        {
          "output_type": "execute_result",
          "data": {
            "text/html": [
              "<div>\n",
              "<style scoped>\n",
              "    .dataframe tbody tr th:only-of-type {\n",
              "        vertical-align: middle;\n",
              "    }\n",
              "\n",
              "    .dataframe tbody tr th {\n",
              "        vertical-align: top;\n",
              "    }\n",
              "\n",
              "    .dataframe thead th {\n",
              "        text-align: right;\n",
              "    }\n",
              "</style>\n",
              "<table border=\"1\" class=\"dataframe\">\n",
              "  <thead>\n",
              "    <tr style=\"text-align: right;\">\n",
              "      <th></th>\n",
              "      <th>UserID</th>\n",
              "      <th>Age</th>\n",
              "      <th>Occupation</th>\n",
              "    </tr>\n",
              "  </thead>\n",
              "  <tbody>\n",
              "    <tr>\n",
              "      <th>count</th>\n",
              "      <td>6040.000000</td>\n",
              "      <td>6040.000000</td>\n",
              "      <td>6040.000000</td>\n",
              "    </tr>\n",
              "    <tr>\n",
              "      <th>mean</th>\n",
              "      <td>3020.500000</td>\n",
              "      <td>30.639238</td>\n",
              "      <td>8.146854</td>\n",
              "    </tr>\n",
              "    <tr>\n",
              "      <th>std</th>\n",
              "      <td>1743.742145</td>\n",
              "      <td>12.895962</td>\n",
              "      <td>6.329511</td>\n",
              "    </tr>\n",
              "    <tr>\n",
              "      <th>min</th>\n",
              "      <td>1.000000</td>\n",
              "      <td>1.000000</td>\n",
              "      <td>0.000000</td>\n",
              "    </tr>\n",
              "    <tr>\n",
              "      <th>25%</th>\n",
              "      <td>1510.750000</td>\n",
              "      <td>25.000000</td>\n",
              "      <td>3.000000</td>\n",
              "    </tr>\n",
              "    <tr>\n",
              "      <th>50%</th>\n",
              "      <td>3020.500000</td>\n",
              "      <td>25.000000</td>\n",
              "      <td>7.000000</td>\n",
              "    </tr>\n",
              "    <tr>\n",
              "      <th>75%</th>\n",
              "      <td>4530.250000</td>\n",
              "      <td>35.000000</td>\n",
              "      <td>14.000000</td>\n",
              "    </tr>\n",
              "    <tr>\n",
              "      <th>max</th>\n",
              "      <td>6040.000000</td>\n",
              "      <td>56.000000</td>\n",
              "      <td>20.000000</td>\n",
              "    </tr>\n",
              "  </tbody>\n",
              "</table>\n",
              "</div>"
            ],
            "text/plain": [
              "            UserID          Age   Occupation\n",
              "count  6040.000000  6040.000000  6040.000000\n",
              "mean   3020.500000    30.639238     8.146854\n",
              "std    1743.742145    12.895962     6.329511\n",
              "min       1.000000     1.000000     0.000000\n",
              "25%    1510.750000    25.000000     3.000000\n",
              "50%    3020.500000    25.000000     7.000000\n",
              "75%    4530.250000    35.000000    14.000000\n",
              "max    6040.000000    56.000000    20.000000"
            ]
          },
          "metadata": {
            "tags": []
          },
          "execution_count": 10
        }
      ]
    },
    {
      "cell_type": "code",
      "metadata": {
        "id": "NY_ZUGWimMnf",
        "colab_type": "code",
        "outputId": "4eaaea8f-96ca-4cec-b5b5-5a00d03947ea",
        "colab": {
          "base_uri": "https://localhost:8080/",
          "height": 34
        }
      },
      "source": [
        "ratings.shape"
      ],
      "execution_count": 0,
      "outputs": [
        {
          "output_type": "execute_result",
          "data": {
            "text/plain": [
              "(1000209, 4)"
            ]
          },
          "metadata": {
            "tags": []
          },
          "execution_count": 11
        }
      ]
    },
    {
      "cell_type": "code",
      "metadata": {
        "id": "YGmVJ9tbmMnj",
        "colab_type": "code",
        "outputId": "2f958932-f580-4cea-82aa-0310214ff5c2",
        "colab": {
          "base_uri": "https://localhost:8080/",
          "height": 102
        }
      },
      "source": [
        "ratings.isna().sum()"
      ],
      "execution_count": 0,
      "outputs": [
        {
          "output_type": "execute_result",
          "data": {
            "text/plain": [
              "UserID       0\n",
              "MovieID      0\n",
              "Rating       0\n",
              "Timestamp    0\n",
              "dtype: int64"
            ]
          },
          "metadata": {
            "tags": []
          },
          "execution_count": 12
        }
      ]
    },
    {
      "cell_type": "code",
      "metadata": {
        "id": "3XQmEcASmMnl",
        "colab_type": "code",
        "outputId": "9b548e79-accb-4b39-e380-0cf702684ab8",
        "colab": {
          "base_uri": "https://localhost:8080/",
          "height": 102
        }
      },
      "source": [
        "ratings.isnull().sum()"
      ],
      "execution_count": 0,
      "outputs": [
        {
          "output_type": "execute_result",
          "data": {
            "text/plain": [
              "UserID       0\n",
              "MovieID      0\n",
              "Rating       0\n",
              "Timestamp    0\n",
              "dtype: int64"
            ]
          },
          "metadata": {
            "tags": []
          },
          "execution_count": 13
        }
      ]
    },
    {
      "cell_type": "code",
      "metadata": {
        "id": "1YrSj0RtmMno",
        "colab_type": "code",
        "outputId": "0fe24acb-8db1-4026-fdc4-57658332bb08",
        "colab": {
          "base_uri": "https://localhost:8080/",
          "height": 297
        }
      },
      "source": [
        "ratings.describe()"
      ],
      "execution_count": 0,
      "outputs": [
        {
          "output_type": "execute_result",
          "data": {
            "text/html": [
              "<div>\n",
              "<style scoped>\n",
              "    .dataframe tbody tr th:only-of-type {\n",
              "        vertical-align: middle;\n",
              "    }\n",
              "\n",
              "    .dataframe tbody tr th {\n",
              "        vertical-align: top;\n",
              "    }\n",
              "\n",
              "    .dataframe thead th {\n",
              "        text-align: right;\n",
              "    }\n",
              "</style>\n",
              "<table border=\"1\" class=\"dataframe\">\n",
              "  <thead>\n",
              "    <tr style=\"text-align: right;\">\n",
              "      <th></th>\n",
              "      <th>UserID</th>\n",
              "      <th>MovieID</th>\n",
              "      <th>Rating</th>\n",
              "      <th>Timestamp</th>\n",
              "    </tr>\n",
              "  </thead>\n",
              "  <tbody>\n",
              "    <tr>\n",
              "      <th>count</th>\n",
              "      <td>1.000209e+06</td>\n",
              "      <td>1.000209e+06</td>\n",
              "      <td>1.000209e+06</td>\n",
              "      <td>1.000209e+06</td>\n",
              "    </tr>\n",
              "    <tr>\n",
              "      <th>mean</th>\n",
              "      <td>3.024512e+03</td>\n",
              "      <td>1.865540e+03</td>\n",
              "      <td>3.581564e+00</td>\n",
              "      <td>9.722437e+08</td>\n",
              "    </tr>\n",
              "    <tr>\n",
              "      <th>std</th>\n",
              "      <td>1.728413e+03</td>\n",
              "      <td>1.096041e+03</td>\n",
              "      <td>1.117102e+00</td>\n",
              "      <td>1.215256e+07</td>\n",
              "    </tr>\n",
              "    <tr>\n",
              "      <th>min</th>\n",
              "      <td>1.000000e+00</td>\n",
              "      <td>1.000000e+00</td>\n",
              "      <td>1.000000e+00</td>\n",
              "      <td>9.567039e+08</td>\n",
              "    </tr>\n",
              "    <tr>\n",
              "      <th>25%</th>\n",
              "      <td>1.506000e+03</td>\n",
              "      <td>1.030000e+03</td>\n",
              "      <td>3.000000e+00</td>\n",
              "      <td>9.653026e+08</td>\n",
              "    </tr>\n",
              "    <tr>\n",
              "      <th>50%</th>\n",
              "      <td>3.070000e+03</td>\n",
              "      <td>1.835000e+03</td>\n",
              "      <td>4.000000e+00</td>\n",
              "      <td>9.730180e+08</td>\n",
              "    </tr>\n",
              "    <tr>\n",
              "      <th>75%</th>\n",
              "      <td>4.476000e+03</td>\n",
              "      <td>2.770000e+03</td>\n",
              "      <td>4.000000e+00</td>\n",
              "      <td>9.752209e+08</td>\n",
              "    </tr>\n",
              "    <tr>\n",
              "      <th>max</th>\n",
              "      <td>6.040000e+03</td>\n",
              "      <td>3.952000e+03</td>\n",
              "      <td>5.000000e+00</td>\n",
              "      <td>1.046455e+09</td>\n",
              "    </tr>\n",
              "  </tbody>\n",
              "</table>\n",
              "</div>"
            ],
            "text/plain": [
              "             UserID       MovieID        Rating     Timestamp\n",
              "count  1.000209e+06  1.000209e+06  1.000209e+06  1.000209e+06\n",
              "mean   3.024512e+03  1.865540e+03  3.581564e+00  9.722437e+08\n",
              "std    1.728413e+03  1.096041e+03  1.117102e+00  1.215256e+07\n",
              "min    1.000000e+00  1.000000e+00  1.000000e+00  9.567039e+08\n",
              "25%    1.506000e+03  1.030000e+03  3.000000e+00  9.653026e+08\n",
              "50%    3.070000e+03  1.835000e+03  4.000000e+00  9.730180e+08\n",
              "75%    4.476000e+03  2.770000e+03  4.000000e+00  9.752209e+08\n",
              "max    6.040000e+03  3.952000e+03  5.000000e+00  1.046455e+09"
            ]
          },
          "metadata": {
            "tags": []
          },
          "execution_count": 14
        }
      ]
    },
    {
      "cell_type": "markdown",
      "metadata": {
        "id": "TDK9T8JqmMnr",
        "colab_type": "text"
      },
      "source": [
        "#### Merge the Datasets"
      ]
    },
    {
      "cell_type": "code",
      "metadata": {
        "id": "P3NHo_kCmMnr",
        "colab_type": "code",
        "outputId": "b31f8db0-6d45-45cb-91fd-e50e3f12369c",
        "colab": {
          "base_uri": "https://localhost:8080/",
          "height": 111
        }
      },
      "source": [
        "movies.head(2)"
      ],
      "execution_count": 0,
      "outputs": [
        {
          "output_type": "execute_result",
          "data": {
            "text/html": [
              "<div>\n",
              "<style scoped>\n",
              "    .dataframe tbody tr th:only-of-type {\n",
              "        vertical-align: middle;\n",
              "    }\n",
              "\n",
              "    .dataframe tbody tr th {\n",
              "        vertical-align: top;\n",
              "    }\n",
              "\n",
              "    .dataframe thead th {\n",
              "        text-align: right;\n",
              "    }\n",
              "</style>\n",
              "<table border=\"1\" class=\"dataframe\">\n",
              "  <thead>\n",
              "    <tr style=\"text-align: right;\">\n",
              "      <th></th>\n",
              "      <th>MovieID</th>\n",
              "      <th>Title</th>\n",
              "      <th>Genres</th>\n",
              "    </tr>\n",
              "  </thead>\n",
              "  <tbody>\n",
              "    <tr>\n",
              "      <th>0</th>\n",
              "      <td>1</td>\n",
              "      <td>Toy Story (1995)</td>\n",
              "      <td>Animation|Children's|Comedy</td>\n",
              "    </tr>\n",
              "    <tr>\n",
              "      <th>1</th>\n",
              "      <td>2</td>\n",
              "      <td>Jumanji (1995)</td>\n",
              "      <td>Adventure|Children's|Fantasy</td>\n",
              "    </tr>\n",
              "  </tbody>\n",
              "</table>\n",
              "</div>"
            ],
            "text/plain": [
              "   MovieID             Title                        Genres\n",
              "0        1  Toy Story (1995)   Animation|Children's|Comedy\n",
              "1        2    Jumanji (1995)  Adventure|Children's|Fantasy"
            ]
          },
          "metadata": {
            "tags": []
          },
          "execution_count": 15
        }
      ]
    },
    {
      "cell_type": "code",
      "metadata": {
        "id": "rbew6WUYmMnu",
        "colab_type": "code",
        "outputId": "a399a6bb-bc36-43eb-c104-2c2a69421312",
        "colab": {
          "base_uri": "https://localhost:8080/",
          "height": 111
        }
      },
      "source": [
        "users.head(2)"
      ],
      "execution_count": 0,
      "outputs": [
        {
          "output_type": "execute_result",
          "data": {
            "text/html": [
              "<div>\n",
              "<style scoped>\n",
              "    .dataframe tbody tr th:only-of-type {\n",
              "        vertical-align: middle;\n",
              "    }\n",
              "\n",
              "    .dataframe tbody tr th {\n",
              "        vertical-align: top;\n",
              "    }\n",
              "\n",
              "    .dataframe thead th {\n",
              "        text-align: right;\n",
              "    }\n",
              "</style>\n",
              "<table border=\"1\" class=\"dataframe\">\n",
              "  <thead>\n",
              "    <tr style=\"text-align: right;\">\n",
              "      <th></th>\n",
              "      <th>UserID</th>\n",
              "      <th>Gender</th>\n",
              "      <th>Age</th>\n",
              "      <th>Occupation</th>\n",
              "      <th>Zip-code</th>\n",
              "    </tr>\n",
              "  </thead>\n",
              "  <tbody>\n",
              "    <tr>\n",
              "      <th>0</th>\n",
              "      <td>1</td>\n",
              "      <td>F</td>\n",
              "      <td>1</td>\n",
              "      <td>10</td>\n",
              "      <td>48067</td>\n",
              "    </tr>\n",
              "    <tr>\n",
              "      <th>1</th>\n",
              "      <td>2</td>\n",
              "      <td>M</td>\n",
              "      <td>56</td>\n",
              "      <td>16</td>\n",
              "      <td>70072</td>\n",
              "    </tr>\n",
              "  </tbody>\n",
              "</table>\n",
              "</div>"
            ],
            "text/plain": [
              "   UserID Gender  Age  Occupation Zip-code\n",
              "0       1      F    1          10    48067\n",
              "1       2      M   56          16    70072"
            ]
          },
          "metadata": {
            "tags": []
          },
          "execution_count": 16
        }
      ]
    },
    {
      "cell_type": "code",
      "metadata": {
        "id": "nPkPH4SumMnw",
        "colab_type": "code",
        "outputId": "b0136a41-13bb-4505-cb86-d2cf9b130389",
        "colab": {
          "base_uri": "https://localhost:8080/",
          "height": 111
        }
      },
      "source": [
        "ratings.head(2)"
      ],
      "execution_count": 0,
      "outputs": [
        {
          "output_type": "execute_result",
          "data": {
            "text/html": [
              "<div>\n",
              "<style scoped>\n",
              "    .dataframe tbody tr th:only-of-type {\n",
              "        vertical-align: middle;\n",
              "    }\n",
              "\n",
              "    .dataframe tbody tr th {\n",
              "        vertical-align: top;\n",
              "    }\n",
              "\n",
              "    .dataframe thead th {\n",
              "        text-align: right;\n",
              "    }\n",
              "</style>\n",
              "<table border=\"1\" class=\"dataframe\">\n",
              "  <thead>\n",
              "    <tr style=\"text-align: right;\">\n",
              "      <th></th>\n",
              "      <th>UserID</th>\n",
              "      <th>MovieID</th>\n",
              "      <th>Rating</th>\n",
              "      <th>Timestamp</th>\n",
              "    </tr>\n",
              "  </thead>\n",
              "  <tbody>\n",
              "    <tr>\n",
              "      <th>0</th>\n",
              "      <td>1</td>\n",
              "      <td>1193</td>\n",
              "      <td>5</td>\n",
              "      <td>978300760</td>\n",
              "    </tr>\n",
              "    <tr>\n",
              "      <th>1</th>\n",
              "      <td>1</td>\n",
              "      <td>661</td>\n",
              "      <td>3</td>\n",
              "      <td>978302109</td>\n",
              "    </tr>\n",
              "  </tbody>\n",
              "</table>\n",
              "</div>"
            ],
            "text/plain": [
              "   UserID  MovieID  Rating  Timestamp\n",
              "0       1     1193       5  978300760\n",
              "1       1      661       3  978302109"
            ]
          },
          "metadata": {
            "tags": []
          },
          "execution_count": 17
        }
      ]
    },
    {
      "cell_type": "code",
      "metadata": {
        "id": "1zd2NP9umMnz",
        "colab_type": "code",
        "outputId": "43816340-53ef-46aa-eb86-eab4da630f4d",
        "colab": {
          "base_uri": "https://localhost:8080/",
          "height": 111
        }
      },
      "source": [
        "user_data = pd.merge(users,ratings, on = 'UserID',how = 'left')\n",
        "user_data.head(2)"
      ],
      "execution_count": 0,
      "outputs": [
        {
          "output_type": "execute_result",
          "data": {
            "text/html": [
              "<div>\n",
              "<style scoped>\n",
              "    .dataframe tbody tr th:only-of-type {\n",
              "        vertical-align: middle;\n",
              "    }\n",
              "\n",
              "    .dataframe tbody tr th {\n",
              "        vertical-align: top;\n",
              "    }\n",
              "\n",
              "    .dataframe thead th {\n",
              "        text-align: right;\n",
              "    }\n",
              "</style>\n",
              "<table border=\"1\" class=\"dataframe\">\n",
              "  <thead>\n",
              "    <tr style=\"text-align: right;\">\n",
              "      <th></th>\n",
              "      <th>UserID</th>\n",
              "      <th>Gender</th>\n",
              "      <th>Age</th>\n",
              "      <th>Occupation</th>\n",
              "      <th>Zip-code</th>\n",
              "      <th>MovieID</th>\n",
              "      <th>Rating</th>\n",
              "      <th>Timestamp</th>\n",
              "    </tr>\n",
              "  </thead>\n",
              "  <tbody>\n",
              "    <tr>\n",
              "      <th>0</th>\n",
              "      <td>1</td>\n",
              "      <td>F</td>\n",
              "      <td>1</td>\n",
              "      <td>10</td>\n",
              "      <td>48067</td>\n",
              "      <td>1193</td>\n",
              "      <td>5</td>\n",
              "      <td>978300760</td>\n",
              "    </tr>\n",
              "    <tr>\n",
              "      <th>1</th>\n",
              "      <td>1</td>\n",
              "      <td>F</td>\n",
              "      <td>1</td>\n",
              "      <td>10</td>\n",
              "      <td>48067</td>\n",
              "      <td>661</td>\n",
              "      <td>3</td>\n",
              "      <td>978302109</td>\n",
              "    </tr>\n",
              "  </tbody>\n",
              "</table>\n",
              "</div>"
            ],
            "text/plain": [
              "   UserID Gender  Age  Occupation Zip-code  MovieID  Rating  Timestamp\n",
              "0       1      F    1          10    48067     1193       5  978300760\n",
              "1       1      F    1          10    48067      661       3  978302109"
            ]
          },
          "metadata": {
            "tags": []
          },
          "execution_count": 18
        }
      ]
    },
    {
      "cell_type": "code",
      "metadata": {
        "id": "2BKlB3M_mMn1",
        "colab_type": "code",
        "colab": {}
      },
      "source": [
        "# Merge all the Datasets to create MAster_Data\n",
        "Master_Data = pd.merge(user_data, movies,on = 'MovieID',how = 'left')"
      ],
      "execution_count": 0,
      "outputs": []
    },
    {
      "cell_type": "code",
      "metadata": {
        "id": "oBg53W9pmMn5",
        "colab_type": "code",
        "outputId": "9d64d3bb-9347-41ff-f612-937417e52bab",
        "colab": {
          "base_uri": "https://localhost:8080/",
          "height": 272
        }
      },
      "source": [
        "Master_Data.info()"
      ],
      "execution_count": 0,
      "outputs": [
        {
          "output_type": "stream",
          "text": [
            "<class 'pandas.core.frame.DataFrame'>\n",
            "Int64Index: 1000209 entries, 0 to 1000208\n",
            "Data columns (total 10 columns):\n",
            "UserID        1000209 non-null int64\n",
            "Gender        1000209 non-null object\n",
            "Age           1000209 non-null int64\n",
            "Occupation    1000209 non-null int64\n",
            "Zip-code      1000209 non-null object\n",
            "MovieID       1000209 non-null int64\n",
            "Rating        1000209 non-null int64\n",
            "Timestamp     1000209 non-null int64\n",
            "Title         1000209 non-null object\n",
            "Genres        1000209 non-null object\n",
            "dtypes: int64(6), object(4)\n",
            "memory usage: 83.9+ MB\n"
          ],
          "name": "stdout"
        }
      ]
    },
    {
      "cell_type": "code",
      "metadata": {
        "id": "9to2LkG8mMn9",
        "colab_type": "code",
        "outputId": "5f83d237-347f-4a36-99e9-5de6781eca11",
        "colab": {
          "base_uri": "https://localhost:8080/",
          "height": 111
        }
      },
      "source": [
        "Master_Data.head(2)"
      ],
      "execution_count": 0,
      "outputs": [
        {
          "output_type": "execute_result",
          "data": {
            "text/html": [
              "<div>\n",
              "<style scoped>\n",
              "    .dataframe tbody tr th:only-of-type {\n",
              "        vertical-align: middle;\n",
              "    }\n",
              "\n",
              "    .dataframe tbody tr th {\n",
              "        vertical-align: top;\n",
              "    }\n",
              "\n",
              "    .dataframe thead th {\n",
              "        text-align: right;\n",
              "    }\n",
              "</style>\n",
              "<table border=\"1\" class=\"dataframe\">\n",
              "  <thead>\n",
              "    <tr style=\"text-align: right;\">\n",
              "      <th></th>\n",
              "      <th>UserID</th>\n",
              "      <th>Gender</th>\n",
              "      <th>Age</th>\n",
              "      <th>Occupation</th>\n",
              "      <th>Zip-code</th>\n",
              "      <th>MovieID</th>\n",
              "      <th>Rating</th>\n",
              "      <th>Timestamp</th>\n",
              "      <th>Title</th>\n",
              "      <th>Genres</th>\n",
              "    </tr>\n",
              "  </thead>\n",
              "  <tbody>\n",
              "    <tr>\n",
              "      <th>0</th>\n",
              "      <td>1</td>\n",
              "      <td>F</td>\n",
              "      <td>1</td>\n",
              "      <td>10</td>\n",
              "      <td>48067</td>\n",
              "      <td>1193</td>\n",
              "      <td>5</td>\n",
              "      <td>978300760</td>\n",
              "      <td>One Flew Over the Cuckoo's Nest (1975)</td>\n",
              "      <td>Drama</td>\n",
              "    </tr>\n",
              "    <tr>\n",
              "      <th>1</th>\n",
              "      <td>1</td>\n",
              "      <td>F</td>\n",
              "      <td>1</td>\n",
              "      <td>10</td>\n",
              "      <td>48067</td>\n",
              "      <td>661</td>\n",
              "      <td>3</td>\n",
              "      <td>978302109</td>\n",
              "      <td>James and the Giant Peach (1996)</td>\n",
              "      <td>Animation|Children's|Musical</td>\n",
              "    </tr>\n",
              "  </tbody>\n",
              "</table>\n",
              "</div>"
            ],
            "text/plain": [
              "   UserID  ...                        Genres\n",
              "0       1  ...                         Drama\n",
              "1       1  ...  Animation|Children's|Musical\n",
              "\n",
              "[2 rows x 10 columns]"
            ]
          },
          "metadata": {
            "tags": []
          },
          "execution_count": 21
        }
      ]
    },
    {
      "cell_type": "markdown",
      "metadata": {
        "id": "IKPUmJblmMoE",
        "colab_type": "text"
      },
      "source": [
        "#### Step 2: \n",
        "\n",
        "#### Exploratory Data Analysis (EDA) for the users dataset"
      ]
    },
    {
      "cell_type": "markdown",
      "metadata": {
        "id": "Z17Qz42KmMoF",
        "colab_type": "text"
      },
      "source": [
        "##### 1. Visualize user age distribution"
      ]
    },
    {
      "cell_type": "code",
      "metadata": {
        "id": "xFrG1kqKmMoG",
        "colab_type": "code",
        "outputId": "27e3cf79-c342-4b79-ca91-0c7a82fdd3f9",
        "colab": {
          "base_uri": "https://localhost:8080/",
          "height": 111
        }
      },
      "source": [
        "users.head(2)"
      ],
      "execution_count": 0,
      "outputs": [
        {
          "output_type": "execute_result",
          "data": {
            "text/html": [
              "<div>\n",
              "<style scoped>\n",
              "    .dataframe tbody tr th:only-of-type {\n",
              "        vertical-align: middle;\n",
              "    }\n",
              "\n",
              "    .dataframe tbody tr th {\n",
              "        vertical-align: top;\n",
              "    }\n",
              "\n",
              "    .dataframe thead th {\n",
              "        text-align: right;\n",
              "    }\n",
              "</style>\n",
              "<table border=\"1\" class=\"dataframe\">\n",
              "  <thead>\n",
              "    <tr style=\"text-align: right;\">\n",
              "      <th></th>\n",
              "      <th>UserID</th>\n",
              "      <th>Gender</th>\n",
              "      <th>Age</th>\n",
              "      <th>Occupation</th>\n",
              "      <th>Zip-code</th>\n",
              "    </tr>\n",
              "  </thead>\n",
              "  <tbody>\n",
              "    <tr>\n",
              "      <th>0</th>\n",
              "      <td>1</td>\n",
              "      <td>F</td>\n",
              "      <td>1</td>\n",
              "      <td>10</td>\n",
              "      <td>48067</td>\n",
              "    </tr>\n",
              "    <tr>\n",
              "      <th>1</th>\n",
              "      <td>2</td>\n",
              "      <td>M</td>\n",
              "      <td>56</td>\n",
              "      <td>16</td>\n",
              "      <td>70072</td>\n",
              "    </tr>\n",
              "  </tbody>\n",
              "</table>\n",
              "</div>"
            ],
            "text/plain": [
              "   UserID Gender  Age  Occupation Zip-code\n",
              "0       1      F    1          10    48067\n",
              "1       2      M   56          16    70072"
            ]
          },
          "metadata": {
            "tags": []
          },
          "execution_count": 22
        }
      ]
    },
    {
      "cell_type": "code",
      "metadata": {
        "id": "gKMdIyCzmMoI",
        "colab_type": "code",
        "outputId": "918aee4d-1f6a-4aba-ea4f-220163287a56",
        "colab": {
          "base_uri": "https://localhost:8080/",
          "height": 34
        }
      },
      "source": [
        "users['Age'].unique()"
      ],
      "execution_count": 0,
      "outputs": [
        {
          "output_type": "execute_result",
          "data": {
            "text/plain": [
              "array([ 1, 56, 25, 45, 50, 35, 18])"
            ]
          },
          "metadata": {
            "tags": []
          },
          "execution_count": 23
        }
      ]
    },
    {
      "cell_type": "code",
      "metadata": {
        "id": "Y7HeMVAlp0GN",
        "colab_type": "code",
        "outputId": "e26f6b2f-1d4f-4073-de69-d13a43159eac",
        "colab": {
          "base_uri": "https://localhost:8080/",
          "height": 170
        }
      },
      "source": [
        "users.groupby('Age')['UserID'].count()"
      ],
      "execution_count": 0,
      "outputs": [
        {
          "output_type": "execute_result",
          "data": {
            "text/plain": [
              "Age\n",
              "1      222\n",
              "18    1103\n",
              "25    2096\n",
              "35    1193\n",
              "45     550\n",
              "50     496\n",
              "56     380\n",
              "Name: UserID, dtype: int64"
            ]
          },
          "metadata": {
            "tags": []
          },
          "execution_count": 59
        }
      ]
    },
    {
      "cell_type": "code",
      "metadata": {
        "id": "oTWqaveiqGB9",
        "colab_type": "code",
        "outputId": "df04807b-ec5e-4ce7-9702-d6e80324dff1",
        "colab": {
          "base_uri": "https://localhost:8080/",
          "height": 478
        }
      },
      "source": [
        "users.groupby('Age')['UserID'].count().plot(kind = 'bar', color = 'green', x = 'Age', y = 'Number of Users', title = 'Visualization of Age Distributions',figsize = (8,7))"
      ],
      "execution_count": 0,
      "outputs": [
        {
          "output_type": "execute_result",
          "data": {
            "text/plain": [
              "<matplotlib.axes._subplots.AxesSubplot at 0x7fdc9760f550>"
            ]
          },
          "metadata": {
            "tags": []
          },
          "execution_count": 58
        },
        {
          "output_type": "display_data",
          "data": {
            "image/png": "[encoded data removed]",
            "text/plain": [
              "<Figure size 576x504 with 1 Axes>"
            ]
          },
          "metadata": {
            "tags": []
          }
        }
      ]
    },
    {
      "cell_type": "code",
      "metadata": {
        "id": "J_aKvtdJp0AQ",
        "colab_type": "code",
        "outputId": "d4f4c8f3-14e9-4336-ef41-42da938beecd",
        "colab": {
          "base_uri": "https://localhost:8080/",
          "height": 300
        }
      },
      "source": [
        "sns.distplot(users['Age'], color = 'g', bins = 16)"
      ],
      "execution_count": 0,
      "outputs": [
        {
          "output_type": "execute_result",
          "data": {
            "text/plain": [
              "<matplotlib.axes._subplots.AxesSubplot at 0x7fdc9e99f2e8>"
            ]
          },
          "metadata": {
            "tags": []
          },
          "execution_count": 52
        },
        {
          "output_type": "display_data",
          "data": {
            "image/png": "[encoded data removed]",
            "text/plain": [
              "<Figure size 432x288 with 1 Axes>"
            ]
          },
          "metadata": {
            "tags": []
          }
        }
      ]
    },
    {
      "cell_type": "markdown",
      "metadata": {
        "id": "8a3CQRAemMoO",
        "colab_type": "text"
      },
      "source": [
        "#### 2. Visualize overall rating by users"
      ]
    },
    {
      "cell_type": "markdown",
      "metadata": {
        "id": "KivjdHFTpvmz",
        "colab_type": "text"
      },
      "source": [
        ""
      ]
    },
    {
      "cell_type": "code",
      "metadata": {
        "id": "bVrSRLV9mMoP",
        "colab_type": "code",
        "outputId": "ab36e5e3-438a-4ec0-e552-929afeb50992",
        "colab": {
          "base_uri": "https://localhost:8080/",
          "height": 136
        }
      },
      "source": [
        "Master_Data.groupby('Rating')['UserID'].count()"
      ],
      "execution_count": 0,
      "outputs": [
        {
          "output_type": "execute_result",
          "data": {
            "text/plain": [
              "Rating\n",
              "1     56174\n",
              "2    107557\n",
              "3    261197\n",
              "4    348971\n",
              "5    226310\n",
              "Name: UserID, dtype: int64"
            ]
          },
          "metadata": {
            "tags": []
          },
          "execution_count": 25
        }
      ]
    },
    {
      "cell_type": "code",
      "metadata": {
        "id": "LuSA-Mk0mMoR",
        "colab_type": "code",
        "outputId": "1d55a779-3e15-4441-e961-1c69d82def4d",
        "colab": {
          "base_uri": "https://localhost:8080/",
          "height": 363
        }
      },
      "source": [
        "userRating = Master_Data.groupby('Rating')['UserID'].count()\n",
        "userRating.plot(kind ='bar', color = 'g', x = 'Rating', y = 'Number of Users', title = 'Visualizing Overall Rating by Users', figsize = (7,5))"
      ],
      "execution_count": 0,
      "outputs": [
        {
          "output_type": "execute_result",
          "data": {
            "text/plain": [
              "<matplotlib.axes._subplots.AxesSubplot at 0x7fdc97684240>"
            ]
          },
          "metadata": {
            "tags": []
          },
          "execution_count": 60
        },
        {
          "output_type": "display_data",
          "data": {
            "image/png": "[encoded data removed]",
            "text/plain": [
              "<Figure size 504x360 with 1 Axes>"
            ]
          },
          "metadata": {
            "tags": []
          }
        }
      ]
    },
    {
      "cell_type": "markdown",
      "metadata": {
        "id": "SNtWVdwPmMoT",
        "colab_type": "text"
      },
      "source": [
        "#### 3. Find and visualize the user rating of the movie “Toy Story”"
      ]
    },
    {
      "cell_type": "code",
      "metadata": {
        "id": "YsTxyc3brmop",
        "colab_type": "code",
        "outputId": "9078450d-4112-409c-ee61-95fd3122b6ea",
        "colab": {
          "base_uri": "https://localhost:8080/",
          "height": 34
        }
      },
      "source": [
        "Master_Data[Master_Data.Title == 'Toy Story (1995)'].shape"
      ],
      "execution_count": 0,
      "outputs": [
        {
          "output_type": "execute_result",
          "data": {
            "text/plain": [
              "(2077, 10)"
            ]
          },
          "metadata": {
            "tags": []
          },
          "execution_count": 62
        }
      ]
    },
    {
      "cell_type": "code",
      "metadata": {
        "id": "irtLqGj0mMoT",
        "colab_type": "code",
        "outputId": "ceedacd9-313f-4f0c-aceb-28dddb5cf91c",
        "colab": {
          "base_uri": "https://localhost:8080/",
          "height": 136
        }
      },
      "source": [
        "Master_Data[Master_Data.Title == 'Toy Story (1995)'].groupby('Rating')['UserID'].count()"
      ],
      "execution_count": 0,
      "outputs": [
        {
          "output_type": "execute_result",
          "data": {
            "text/plain": [
              "Rating\n",
              "1     16\n",
              "2     61\n",
              "3    345\n",
              "4    835\n",
              "5    820\n",
              "Name: UserID, dtype: int64"
            ]
          },
          "metadata": {
            "tags": []
          },
          "execution_count": 63
        }
      ]
    },
    {
      "cell_type": "code",
      "metadata": {
        "id": "3mRnqaFymMoV",
        "colab_type": "code",
        "colab": {}
      },
      "source": [
        "toystory_rating = Master_Data[Master_Data.Title == 'Toy Story (1995)'].groupby('Rating')['UserID'].count()"
      ],
      "execution_count": 0,
      "outputs": []
    },
    {
      "cell_type": "code",
      "metadata": {
        "id": "Wst8tIHVmMoX",
        "colab_type": "code",
        "outputId": "d23d465e-64ea-4f79-eac3-dd930d384944",
        "colab": {
          "base_uri": "https://localhost:8080/",
          "height": 353
        }
      },
      "source": [
        "toystory_rating.plot(kind ='barh', color = 'g', x = 'Rating', y = 'Number of Users', title = 'User Rating of Toy Story (1995) Movie', figsize = (7,5))"
      ],
      "execution_count": 0,
      "outputs": [
        {
          "output_type": "execute_result",
          "data": {
            "text/plain": [
              "<matplotlib.axes._subplots.AxesSubplot at 0x7fdc975c5cc0>"
            ]
          },
          "metadata": {
            "tags": []
          },
          "execution_count": 64
        },
        {
          "output_type": "display_data",
          "data": {
            "image/png": "[encoded data removed]",
            "text/plain": [
              "<Figure size 504x360 with 1 Axes>"
            ]
          },
          "metadata": {
            "tags": []
          }
        }
      ]
    },
    {
      "cell_type": "markdown",
      "metadata": {
        "id": "kMXfFfbYmMoZ",
        "colab_type": "text"
      },
      "source": [
        "#### 4. Find and visualize the viewership of the movie “Toy Story” by age group"
      ]
    },
    {
      "cell_type": "code",
      "metadata": {
        "id": "XOyjV3emmMoa",
        "colab_type": "code",
        "outputId": "99d0132a-eadd-404c-95f0-a38d1adebf83",
        "colab": {
          "base_uri": "https://localhost:8080/",
          "height": 170
        }
      },
      "source": [
        "Master_Data[Master_Data.Title == 'Toy Story (1995)'].groupby('Age')['UserID'].count()"
      ],
      "execution_count": 0,
      "outputs": [
        {
          "output_type": "execute_result",
          "data": {
            "text/plain": [
              "Age\n",
              "1     112\n",
              "18    448\n",
              "25    790\n",
              "35    423\n",
              "45    143\n",
              "50    108\n",
              "56     53\n",
              "Name: UserID, dtype: int64"
            ]
          },
          "metadata": {
            "tags": []
          },
          "execution_count": 30
        }
      ]
    },
    {
      "cell_type": "code",
      "metadata": {
        "id": "qifbDkm1mMod",
        "colab_type": "code",
        "outputId": "d696a43b-5864-457c-8275-8eefade07326",
        "colab": {
          "base_uri": "https://localhost:8080/",
          "height": 353
        }
      },
      "source": [
        "Master_Data[Master_Data.Title == 'Toy Story (1995)'].groupby('Age')['UserID'].count().plot(kind ='barh', color = 'g', x = 'Rating', y = 'Number of Users', title = 'User Rating of Toy Story (1995) Movie', figsize = (6,5))"
      ],
      "execution_count": 0,
      "outputs": [
        {
          "output_type": "execute_result",
          "data": {
            "text/plain": [
              "<matplotlib.axes._subplots.AxesSubplot at 0x7fdc97543d30>"
            ]
          },
          "metadata": {
            "tags": []
          },
          "execution_count": 65
        },
        {
          "output_type": "display_data",
          "data": {
            "image/png": "[encoded data removed]",
            "text/plain": [
              "<Figure size 432x360 with 1 Axes>"
            ]
          },
          "metadata": {
            "tags": []
          }
        }
      ]
    },
    {
      "cell_type": "markdown",
      "metadata": {
        "id": "LSojTzLemMof",
        "colab_type": "text"
      },
      "source": [
        "#### 5. Find and visualize the top 25 movies by viewership rating"
      ]
    },
    {
      "cell_type": "code",
      "metadata": {
        "id": "iYtxpvrysDyC",
        "colab_type": "code",
        "outputId": "ead75c4f-9583-4c70-d7a8-3bf7fb8f4c92",
        "colab": {
          "base_uri": "https://localhost:8080/",
          "height": 1000
        }
      },
      "source": [
        "Master_Data.groupby('MovieID')['Rating'].count()"
      ],
      "execution_count": 0,
      "outputs": [
        {
          "output_type": "execute_result",
          "data": {
            "text/plain": [
              "MovieID\n",
              "1       2077\n",
              "2        701\n",
              "3        478\n",
              "4        170\n",
              "5        296\n",
              "6        940\n",
              "7        458\n",
              "8         68\n",
              "9        102\n",
              "10       888\n",
              "11      1033\n",
              "12       160\n",
              "13        99\n",
              "14       153\n",
              "15       146\n",
              "16       682\n",
              "17       835\n",
              "18       157\n",
              "19       389\n",
              "20       160\n",
              "21      1356\n",
              "22       378\n",
              "23       126\n",
              "24       624\n",
              "25       980\n",
              "26       100\n",
              "27        61\n",
              "28       179\n",
              "29       403\n",
              "30        74\n",
              "        ... \n",
              "3923     104\n",
              "3924      26\n",
              "3925     124\n",
              "3926     180\n",
              "3927     348\n",
              "3928     206\n",
              "3929     147\n",
              "3930     223\n",
              "3931      27\n",
              "3932     232\n",
              "3933      16\n",
              "3934      28\n",
              "3935      23\n",
              "3936     112\n",
              "3937     135\n",
              "3938      27\n",
              "3939      26\n",
              "3940      15\n",
              "3941      22\n",
              "3942      28\n",
              "3943      96\n",
              "3944       9\n",
              "3945      43\n",
              "3946     100\n",
              "3947      55\n",
              "3948     862\n",
              "3949     304\n",
              "3950      54\n",
              "3951      40\n",
              "3952     388\n",
              "Name: Rating, Length: 3706, dtype: int64"
            ]
          },
          "metadata": {
            "tags": []
          },
          "execution_count": 66
        }
      ]
    },
    {
      "cell_type": "code",
      "metadata": {
        "id": "fNcYXzqIsDsQ",
        "colab_type": "code",
        "outputId": "a3ff6564-f52e-42ad-c4cf-20095a67d28a",
        "colab": {
          "base_uri": "https://localhost:8080/",
          "height": 476
        }
      },
      "source": [
        "Master_Data.groupby('MovieID')['Rating'].count().sort_values(ascending = False)[:25]"
      ],
      "execution_count": 0,
      "outputs": [
        {
          "output_type": "execute_result",
          "data": {
            "text/plain": [
              "MovieID\n",
              "2858    3428\n",
              "260     2991\n",
              "1196    2990\n",
              "1210    2883\n",
              "480     2672\n",
              "2028    2653\n",
              "589     2649\n",
              "2571    2590\n",
              "1270    2583\n",
              "593     2578\n",
              "1580    2538\n",
              "1198    2514\n",
              "608     2513\n",
              "2762    2459\n",
              "110     2443\n",
              "2396    2369\n",
              "1197    2318\n",
              "527     2304\n",
              "1617    2288\n",
              "1265    2278\n",
              "1097    2269\n",
              "2628    2250\n",
              "2997    2241\n",
              "318     2227\n",
              "858     2223\n",
              "Name: Rating, dtype: int64"
            ]
          },
          "metadata": {
            "tags": []
          },
          "execution_count": 67
        }
      ]
    },
    {
      "cell_type": "code",
      "metadata": {
        "id": "gKUZFHeBmMog",
        "colab_type": "code",
        "outputId": "dddcaf4c-c93f-409c-e5f8-22b0a4e35d21",
        "colab": {
          "base_uri": "https://localhost:8080/",
          "height": 476
        }
      },
      "source": [
        "Master_Data.groupby('MovieID')['Rating'].count().nlargest(25)"
      ],
      "execution_count": 0,
      "outputs": [
        {
          "output_type": "execute_result",
          "data": {
            "text/plain": [
              "MovieID\n",
              "2858    3428\n",
              "260     2991\n",
              "1196    2990\n",
              "1210    2883\n",
              "480     2672\n",
              "2028    2653\n",
              "589     2649\n",
              "2571    2590\n",
              "1270    2583\n",
              "593     2578\n",
              "1580    2538\n",
              "1198    2514\n",
              "608     2513\n",
              "2762    2459\n",
              "110     2443\n",
              "2396    2369\n",
              "1197    2318\n",
              "527     2304\n",
              "1617    2288\n",
              "1265    2278\n",
              "1097    2269\n",
              "2628    2250\n",
              "2997    2241\n",
              "318     2227\n",
              "858     2223\n",
              "Name: Rating, dtype: int64"
            ]
          },
          "metadata": {
            "tags": []
          },
          "execution_count": 32
        }
      ]
    },
    {
      "cell_type": "code",
      "metadata": {
        "id": "t-Nr4BoemMoj",
        "colab_type": "code",
        "outputId": "5c89183c-2253-44fb-a2bc-ecd2961843d6",
        "colab": {
          "base_uri": "https://localhost:8080/",
          "height": 570
        }
      },
      "source": [
        "Master_Data.groupby('MovieID')['Rating'].count().sort_values(ascending = False)[:25].plot(kind ='barh', color = 'g', x = 'Rating', y = 'Number of Users', title = 'User Rating of Toy Story (1995) Movie', figsize = (10,9))"
      ],
      "execution_count": 0,
      "outputs": [
        {
          "output_type": "execute_result",
          "data": {
            "text/plain": [
              "<matplotlib.axes._subplots.AxesSubplot at 0x7fdc974aea90>"
            ]
          },
          "metadata": {
            "tags": []
          },
          "execution_count": 68
        },
        {
          "output_type": "display_data",
          "data": {
            "image/png": "[encoded data removed]",
            "text/plain": [
              "<Figure size 720x648 with 1 Axes>"
            ]
          },
          "metadata": {
            "tags": []
          }
        }
      ]
    },
    {
      "cell_type": "markdown",
      "metadata": {
        "id": "n_SQLnG0mMom",
        "colab_type": "text"
      },
      "source": [
        "#### 5. Find the rating for a particular user of user id = 2696"
      ]
    },
    {
      "cell_type": "code",
      "metadata": {
        "id": "_Plin6DOmMon",
        "colab_type": "code",
        "outputId": "b86b08ef-d08b-4a76-a022-ede9dccb6a20",
        "colab": {
          "base_uri": "https://localhost:8080/",
          "height": 391
        }
      },
      "source": [
        "Master_Data[Master_Data.UserID == 2696].groupby('MovieID')['Rating'].count()"
      ],
      "execution_count": 0,
      "outputs": [
        {
          "output_type": "execute_result",
          "data": {
            "text/plain": [
              "MovieID\n",
              "350     1\n",
              "800     1\n",
              "1092    1\n",
              "1097    1\n",
              "1258    1\n",
              "1270    1\n",
              "1589    1\n",
              "1617    1\n",
              "1625    1\n",
              "1644    1\n",
              "1645    1\n",
              "1711    1\n",
              "1783    1\n",
              "1805    1\n",
              "1892    1\n",
              "2338    1\n",
              "2389    1\n",
              "2713    1\n",
              "3176    1\n",
              "3386    1\n",
              "Name: Rating, dtype: int64"
            ]
          },
          "metadata": {
            "tags": []
          },
          "execution_count": 34
        }
      ]
    },
    {
      "cell_type": "code",
      "metadata": {
        "id": "vyIOI1jCmMop",
        "colab_type": "code",
        "outputId": "8e386f21-d1bc-40cb-ab00-3b9eb1ee60be",
        "colab": {
          "base_uri": "https://localhost:8080/",
          "height": 136
        }
      },
      "source": [
        "Master_Data[Master_Data.UserID == 2696].groupby('Rating')['MovieID'].count()"
      ],
      "execution_count": 0,
      "outputs": [
        {
          "output_type": "execute_result",
          "data": {
            "text/plain": [
              "Rating\n",
              "1     2\n",
              "2     3\n",
              "3     3\n",
              "4    11\n",
              "5     1\n",
              "Name: MovieID, dtype: int64"
            ]
          },
          "metadata": {
            "tags": []
          },
          "execution_count": 35
        }
      ]
    },
    {
      "cell_type": "markdown",
      "metadata": {
        "id": "G6ihjoDgmMoq",
        "colab_type": "text"
      },
      "source": [
        "#### 6. Visualize the rating data by user of user id = 2696"
      ]
    },
    {
      "cell_type": "code",
      "metadata": {
        "id": "E9Z4u4mnmMor",
        "colab_type": "code",
        "outputId": "956e1879-48b1-46b5-e4d6-ac5c9eb60836",
        "colab": {
          "base_uri": "https://localhost:8080/",
          "height": 272
        }
      },
      "source": [
        "Master_Data[Master_Data.UserID == 2696].groupby('Rating')['MovieID'].count().plot(kind = 'pie')"
      ],
      "execution_count": 0,
      "outputs": [
        {
          "output_type": "execute_result",
          "data": {
            "text/plain": [
              "<matplotlib.axes._subplots.AxesSubplot at 0x7fad7d474b70>"
            ]
          },
          "metadata": {
            "tags": []
          },
          "execution_count": 40
        },
        {
          "output_type": "display_data",
          "data": {
            "image/png": "[encoded data removed]",
            "text/plain": [
              "<Figure size 432x288 with 1 Axes>"
            ]
          },
          "metadata": {
            "tags": []
          }
        }
      ]
    },
    {
      "cell_type": "markdown",
      "metadata": {
        "id": "6eVmqJwxmMot",
        "colab_type": "text"
      },
      "source": [
        "#### Step 3 : Perform machine learning on first 500 extracted records"
      ]
    },
    {
      "cell_type": "code",
      "metadata": {
        "id": "ypQTAnmDmMot",
        "colab_type": "code",
        "outputId": "5ef2cead-ea3c-432a-a6e5-647bfd1c658a",
        "colab": {
          "base_uri": "https://localhost:8080/",
          "height": 1000
        }
      },
      "source": [
        "ml_Data = Master_Data.head(500)\n",
        "ml_Data"
      ],
      "execution_count": 0,
      "outputs": [
        {
          "output_type": "execute_result",
          "data": {
            "text/html": [
              "<div>\n",
              "<style scoped>\n",
              "    .dataframe tbody tr th:only-of-type {\n",
              "        vertical-align: middle;\n",
              "    }\n",
              "\n",
              "    .dataframe tbody tr th {\n",
              "        vertical-align: top;\n",
              "    }\n",
              "\n",
              "    .dataframe thead th {\n",
              "        text-align: right;\n",
              "    }\n",
              "</style>\n",
              "<table border=\"1\" class=\"dataframe\">\n",
              "  <thead>\n",
              "    <tr style=\"text-align: right;\">\n",
              "      <th></th>\n",
              "      <th>UserID</th>\n",
              "      <th>Gender</th>\n",
              "      <th>Age</th>\n",
              "      <th>Occupation</th>\n",
              "      <th>Zip-code</th>\n",
              "      <th>MovieID</th>\n",
              "      <th>Rating</th>\n",
              "      <th>Timestamp</th>\n",
              "      <th>Title</th>\n",
              "      <th>Genres</th>\n",
              "    </tr>\n",
              "  </thead>\n",
              "  <tbody>\n",
              "    <tr>\n",
              "      <th>0</th>\n",
              "      <td>1</td>\n",
              "      <td>F</td>\n",
              "      <td>1</td>\n",
              "      <td>10</td>\n",
              "      <td>48067</td>\n",
              "      <td>1193</td>\n",
              "      <td>5</td>\n",
              "      <td>978300760</td>\n",
              "      <td>One Flew Over the Cuckoo's Nest (1975)</td>\n",
              "      <td>Drama</td>\n",
              "    </tr>\n",
              "    <tr>\n",
              "      <th>1</th>\n",
              "      <td>1</td>\n",
              "      <td>F</td>\n",
              "      <td>1</td>\n",
              "      <td>10</td>\n",
              "      <td>48067</td>\n",
              "      <td>661</td>\n",
              "      <td>3</td>\n",
              "      <td>978302109</td>\n",
              "      <td>James and the Giant Peach (1996)</td>\n",
              "      <td>Animation|Children's|Musical</td>\n",
              "    </tr>\n",
              "    <tr>\n",
              "      <th>2</th>\n",
              "      <td>1</td>\n",
              "      <td>F</td>\n",
              "      <td>1</td>\n",
              "      <td>10</td>\n",
              "      <td>48067</td>\n",
              "      <td>914</td>\n",
              "      <td>3</td>\n",
              "      <td>978301968</td>\n",
              "      <td>My Fair Lady (1964)</td>\n",
              "      <td>Musical|Romance</td>\n",
              "    </tr>\n",
              "    <tr>\n",
              "      <th>3</th>\n",
              "      <td>1</td>\n",
              "      <td>F</td>\n",
              "      <td>1</td>\n",
              "      <td>10</td>\n",
              "      <td>48067</td>\n",
              "      <td>3408</td>\n",
              "      <td>4</td>\n",
              "      <td>978300275</td>\n",
              "      <td>Erin Brockovich (2000)</td>\n",
              "      <td>Drama</td>\n",
              "    </tr>\n",
              "    <tr>\n",
              "      <th>4</th>\n",
              "      <td>1</td>\n",
              "      <td>F</td>\n",
              "      <td>1</td>\n",
              "      <td>10</td>\n",
              "      <td>48067</td>\n",
              "      <td>2355</td>\n",
              "      <td>5</td>\n",
              "      <td>978824291</td>\n",
              "      <td>Bug's Life, A (1998)</td>\n",
              "      <td>Animation|Children's|Comedy</td>\n",
              "    </tr>\n",
              "    <tr>\n",
              "      <th>5</th>\n",
              "      <td>1</td>\n",
              "      <td>F</td>\n",
              "      <td>1</td>\n",
              "      <td>10</td>\n",
              "      <td>48067</td>\n",
              "      <td>1197</td>\n",
              "      <td>3</td>\n",
              "      <td>978302268</td>\n",
              "      <td>Princess Bride, The (1987)</td>\n",
              "      <td>Action|Adventure|Comedy|Romance</td>\n",
              "    </tr>\n",
              "    <tr>\n",
              "      <th>6</th>\n",
              "      <td>1</td>\n",
              "      <td>F</td>\n",
              "      <td>1</td>\n",
              "      <td>10</td>\n",
              "      <td>48067</td>\n",
              "      <td>1287</td>\n",
              "      <td>5</td>\n",
              "      <td>978302039</td>\n",
              "      <td>Ben-Hur (1959)</td>\n",
              "      <td>Action|Adventure|Drama</td>\n",
              "    </tr>\n",
              "    <tr>\n",
              "      <th>7</th>\n",
              "      <td>1</td>\n",
              "      <td>F</td>\n",
              "      <td>1</td>\n",
              "      <td>10</td>\n",
              "      <td>48067</td>\n",
              "      <td>2804</td>\n",
              "      <td>5</td>\n",
              "      <td>978300719</td>\n",
              "      <td>Christmas Story, A (1983)</td>\n",
              "      <td>Comedy|Drama</td>\n",
              "    </tr>\n",
              "    <tr>\n",
              "      <th>8</th>\n",
              "      <td>1</td>\n",
              "      <td>F</td>\n",
              "      <td>1</td>\n",
              "      <td>10</td>\n",
              "      <td>48067</td>\n",
              "      <td>594</td>\n",
              "      <td>4</td>\n",
              "      <td>978302268</td>\n",
              "      <td>Snow White and the Seven Dwarfs (1937)</td>\n",
              "      <td>Animation|Children's|Musical</td>\n",
              "    </tr>\n",
              "    <tr>\n",
              "      <th>9</th>\n",
              "      <td>1</td>\n",
              "      <td>F</td>\n",
              "      <td>1</td>\n",
              "      <td>10</td>\n",
              "      <td>48067</td>\n",
              "      <td>919</td>\n",
              "      <td>4</td>\n",
              "      <td>978301368</td>\n",
              "      <td>Wizard of Oz, The (1939)</td>\n",
              "      <td>Adventure|Children's|Drama|Musical</td>\n",
              "    </tr>\n",
              "    <tr>\n",
              "      <th>10</th>\n",
              "      <td>1</td>\n",
              "      <td>F</td>\n",
              "      <td>1</td>\n",
              "      <td>10</td>\n",
              "      <td>48067</td>\n",
              "      <td>595</td>\n",
              "      <td>5</td>\n",
              "      <td>978824268</td>\n",
              "      <td>Beauty and the Beast (1991)</td>\n",
              "      <td>Animation|Children's|Musical</td>\n",
              "    </tr>\n",
              "    <tr>\n",
              "      <th>11</th>\n",
              "      <td>1</td>\n",
              "      <td>F</td>\n",
              "      <td>1</td>\n",
              "      <td>10</td>\n",
              "      <td>48067</td>\n",
              "      <td>938</td>\n",
              "      <td>4</td>\n",
              "      <td>978301752</td>\n",
              "      <td>Gigi (1958)</td>\n",
              "      <td>Musical</td>\n",
              "    </tr>\n",
              "    <tr>\n",
              "      <th>12</th>\n",
              "      <td>1</td>\n",
              "      <td>F</td>\n",
              "      <td>1</td>\n",
              "      <td>10</td>\n",
              "      <td>48067</td>\n",
              "      <td>2398</td>\n",
              "      <td>4</td>\n",
              "      <td>978302281</td>\n",
              "      <td>Miracle on 34th Street (1947)</td>\n",
              "      <td>Drama</td>\n",
              "    </tr>\n",
              "    <tr>\n",
              "      <th>13</th>\n",
              "      <td>1</td>\n",
              "      <td>F</td>\n",
              "      <td>1</td>\n",
              "      <td>10</td>\n",
              "      <td>48067</td>\n",
              "      <td>2918</td>\n",
              "      <td>4</td>\n",
              "      <td>978302124</td>\n",
              "      <td>Ferris Bueller's Day Off (1986)</td>\n",
              "      <td>Comedy</td>\n",
              "    </tr>\n",
              "    <tr>\n",
              "      <th>14</th>\n",
              "      <td>1</td>\n",
              "      <td>F</td>\n",
              "      <td>1</td>\n",
              "      <td>10</td>\n",
              "      <td>48067</td>\n",
              "      <td>1035</td>\n",
              "      <td>5</td>\n",
              "      <td>978301753</td>\n",
              "      <td>Sound of Music, The (1965)</td>\n",
              "      <td>Musical</td>\n",
              "    </tr>\n",
              "    <tr>\n",
              "      <th>15</th>\n",
              "      <td>1</td>\n",
              "      <td>F</td>\n",
              "      <td>1</td>\n",
              "      <td>10</td>\n",
              "      <td>48067</td>\n",
              "      <td>2791</td>\n",
              "      <td>4</td>\n",
              "      <td>978302188</td>\n",
              "      <td>Airplane! (1980)</td>\n",
              "      <td>Comedy</td>\n",
              "    </tr>\n",
              "    <tr>\n",
              "      <th>16</th>\n",
              "      <td>1</td>\n",
              "      <td>F</td>\n",
              "      <td>1</td>\n",
              "      <td>10</td>\n",
              "      <td>48067</td>\n",
              "      <td>2687</td>\n",
              "      <td>3</td>\n",
              "      <td>978824268</td>\n",
              "      <td>Tarzan (1999)</td>\n",
              "      <td>Animation|Children's</td>\n",
              "    </tr>\n",
              "    <tr>\n",
              "      <th>17</th>\n",
              "      <td>1</td>\n",
              "      <td>F</td>\n",
              "      <td>1</td>\n",
              "      <td>10</td>\n",
              "      <td>48067</td>\n",
              "      <td>2018</td>\n",
              "      <td>4</td>\n",
              "      <td>978301777</td>\n",
              "      <td>Bambi (1942)</td>\n",
              "      <td>Animation|Children's</td>\n",
              "    </tr>\n",
              "    <tr>\n",
              "      <th>18</th>\n",
              "      <td>1</td>\n",
              "      <td>F</td>\n",
              "      <td>1</td>\n",
              "      <td>10</td>\n",
              "      <td>48067</td>\n",
              "      <td>3105</td>\n",
              "      <td>5</td>\n",
              "      <td>978301713</td>\n",
              "      <td>Awakenings (1990)</td>\n",
              "      <td>Drama</td>\n",
              "    </tr>\n",
              "    <tr>\n",
              "      <th>19</th>\n",
              "      <td>1</td>\n",
              "      <td>F</td>\n",
              "      <td>1</td>\n",
              "      <td>10</td>\n",
              "      <td>48067</td>\n",
              "      <td>2797</td>\n",
              "      <td>4</td>\n",
              "      <td>978302039</td>\n",
              "      <td>Big (1988)</td>\n",
              "      <td>Comedy|Fantasy</td>\n",
              "    </tr>\n",
              "    <tr>\n",
              "      <th>20</th>\n",
              "      <td>1</td>\n",
              "      <td>F</td>\n",
              "      <td>1</td>\n",
              "      <td>10</td>\n",
              "      <td>48067</td>\n",
              "      <td>2321</td>\n",
              "      <td>3</td>\n",
              "      <td>978302205</td>\n",
              "      <td>Pleasantville (1998)</td>\n",
              "      <td>Comedy</td>\n",
              "    </tr>\n",
              "    <tr>\n",
              "      <th>21</th>\n",
              "      <td>1</td>\n",
              "      <td>F</td>\n",
              "      <td>1</td>\n",
              "      <td>10</td>\n",
              "      <td>48067</td>\n",
              "      <td>720</td>\n",
              "      <td>3</td>\n",
              "      <td>978300760</td>\n",
              "      <td>Wallace &amp; Gromit: The Best of Aardman Animatio...</td>\n",
              "      <td>Animation</td>\n",
              "    </tr>\n",
              "    <tr>\n",
              "      <th>22</th>\n",
              "      <td>1</td>\n",
              "      <td>F</td>\n",
              "      <td>1</td>\n",
              "      <td>10</td>\n",
              "      <td>48067</td>\n",
              "      <td>1270</td>\n",
              "      <td>5</td>\n",
              "      <td>978300055</td>\n",
              "      <td>Back to the Future (1985)</td>\n",
              "      <td>Comedy|Sci-Fi</td>\n",
              "    </tr>\n",
              "    <tr>\n",
              "      <th>23</th>\n",
              "      <td>1</td>\n",
              "      <td>F</td>\n",
              "      <td>1</td>\n",
              "      <td>10</td>\n",
              "      <td>48067</td>\n",
              "      <td>527</td>\n",
              "      <td>5</td>\n",
              "      <td>978824195</td>\n",
              "      <td>Schindler's List (1993)</td>\n",
              "      <td>Drama|War</td>\n",
              "    </tr>\n",
              "    <tr>\n",
              "      <th>24</th>\n",
              "      <td>1</td>\n",
              "      <td>F</td>\n",
              "      <td>1</td>\n",
              "      <td>10</td>\n",
              "      <td>48067</td>\n",
              "      <td>2340</td>\n",
              "      <td>3</td>\n",
              "      <td>978300103</td>\n",
              "      <td>Meet Joe Black (1998)</td>\n",
              "      <td>Romance</td>\n",
              "    </tr>\n",
              "    <tr>\n",
              "      <th>25</th>\n",
              "      <td>1</td>\n",
              "      <td>F</td>\n",
              "      <td>1</td>\n",
              "      <td>10</td>\n",
              "      <td>48067</td>\n",
              "      <td>48</td>\n",
              "      <td>5</td>\n",
              "      <td>978824351</td>\n",
              "      <td>Pocahontas (1995)</td>\n",
              "      <td>Animation|Children's|Musical|Romance</td>\n",
              "    </tr>\n",
              "    <tr>\n",
              "      <th>26</th>\n",
              "      <td>1</td>\n",
              "      <td>F</td>\n",
              "      <td>1</td>\n",
              "      <td>10</td>\n",
              "      <td>48067</td>\n",
              "      <td>1097</td>\n",
              "      <td>4</td>\n",
              "      <td>978301953</td>\n",
              "      <td>E.T. the Extra-Terrestrial (1982)</td>\n",
              "      <td>Children's|Drama|Fantasy|Sci-Fi</td>\n",
              "    </tr>\n",
              "    <tr>\n",
              "      <th>27</th>\n",
              "      <td>1</td>\n",
              "      <td>F</td>\n",
              "      <td>1</td>\n",
              "      <td>10</td>\n",
              "      <td>48067</td>\n",
              "      <td>1721</td>\n",
              "      <td>4</td>\n",
              "      <td>978300055</td>\n",
              "      <td>Titanic (1997)</td>\n",
              "      <td>Drama|Romance</td>\n",
              "    </tr>\n",
              "    <tr>\n",
              "      <th>28</th>\n",
              "      <td>1</td>\n",
              "      <td>F</td>\n",
              "      <td>1</td>\n",
              "      <td>10</td>\n",
              "      <td>48067</td>\n",
              "      <td>1545</td>\n",
              "      <td>4</td>\n",
              "      <td>978824139</td>\n",
              "      <td>Ponette (1996)</td>\n",
              "      <td>Drama</td>\n",
              "    </tr>\n",
              "    <tr>\n",
              "      <th>29</th>\n",
              "      <td>1</td>\n",
              "      <td>F</td>\n",
              "      <td>1</td>\n",
              "      <td>10</td>\n",
              "      <td>48067</td>\n",
              "      <td>745</td>\n",
              "      <td>3</td>\n",
              "      <td>978824268</td>\n",
              "      <td>Close Shave, A (1995)</td>\n",
              "      <td>Animation|Comedy|Thriller</td>\n",
              "    </tr>\n",
              "    <tr>\n",
              "      <th>...</th>\n",
              "      <td>...</td>\n",
              "      <td>...</td>\n",
              "      <td>...</td>\n",
              "      <td>...</td>\n",
              "      <td>...</td>\n",
              "      <td>...</td>\n",
              "      <td>...</td>\n",
              "      <td>...</td>\n",
              "      <td>...</td>\n",
              "      <td>...</td>\n",
              "    </tr>\n",
              "    <tr>\n",
              "      <th>470</th>\n",
              "      <td>6</td>\n",
              "      <td>F</td>\n",
              "      <td>50</td>\n",
              "      <td>9</td>\n",
              "      <td>55117</td>\n",
              "      <td>1043</td>\n",
              "      <td>4</td>\n",
              "      <td>978236219</td>\n",
              "      <td>To Gillian on Her 37th Birthday (1996)</td>\n",
              "      <td>Drama|Romance</td>\n",
              "    </tr>\n",
              "    <tr>\n",
              "      <th>471</th>\n",
              "      <td>6</td>\n",
              "      <td>F</td>\n",
              "      <td>50</td>\n",
              "      <td>9</td>\n",
              "      <td>55117</td>\n",
              "      <td>2858</td>\n",
              "      <td>1</td>\n",
              "      <td>978236809</td>\n",
              "      <td>American Beauty (1999)</td>\n",
              "      <td>Comedy|Drama</td>\n",
              "    </tr>\n",
              "    <tr>\n",
              "      <th>472</th>\n",
              "      <td>6</td>\n",
              "      <td>F</td>\n",
              "      <td>50</td>\n",
              "      <td>9</td>\n",
              "      <td>55117</td>\n",
              "      <td>377</td>\n",
              "      <td>3</td>\n",
              "      <td>978236383</td>\n",
              "      <td>Speed (1994)</td>\n",
              "      <td>Action|Romance|Thriller</td>\n",
              "    </tr>\n",
              "    <tr>\n",
              "      <th>473</th>\n",
              "      <td>6</td>\n",
              "      <td>F</td>\n",
              "      <td>50</td>\n",
              "      <td>9</td>\n",
              "      <td>55117</td>\n",
              "      <td>590</td>\n",
              "      <td>3</td>\n",
              "      <td>978237232</td>\n",
              "      <td>Dances with Wolves (1990)</td>\n",
              "      <td>Adventure|Drama|Western</td>\n",
              "    </tr>\n",
              "    <tr>\n",
              "      <th>474</th>\n",
              "      <td>6</td>\n",
              "      <td>F</td>\n",
              "      <td>50</td>\n",
              "      <td>9</td>\n",
              "      <td>55117</td>\n",
              "      <td>595</td>\n",
              "      <td>4</td>\n",
              "      <td>978237511</td>\n",
              "      <td>Beauty and the Beast (1991)</td>\n",
              "      <td>Animation|Children's|Musical</td>\n",
              "    </tr>\n",
              "    <tr>\n",
              "      <th>475</th>\n",
              "      <td>6</td>\n",
              "      <td>F</td>\n",
              "      <td>50</td>\n",
              "      <td>9</td>\n",
              "      <td>55117</td>\n",
              "      <td>597</td>\n",
              "      <td>5</td>\n",
              "      <td>978239019</td>\n",
              "      <td>Pretty Woman (1990)</td>\n",
              "      <td>Comedy|Romance</td>\n",
              "    </tr>\n",
              "    <tr>\n",
              "      <th>476</th>\n",
              "      <td>6</td>\n",
              "      <td>F</td>\n",
              "      <td>50</td>\n",
              "      <td>9</td>\n",
              "      <td>55117</td>\n",
              "      <td>383</td>\n",
              "      <td>4</td>\n",
              "      <td>978237909</td>\n",
              "      <td>Wyatt Earp (1994)</td>\n",
              "      <td>Western</td>\n",
              "    </tr>\n",
              "    <tr>\n",
              "      <th>477</th>\n",
              "      <td>6</td>\n",
              "      <td>F</td>\n",
              "      <td>50</td>\n",
              "      <td>9</td>\n",
              "      <td>55117</td>\n",
              "      <td>2506</td>\n",
              "      <td>3</td>\n",
              "      <td>978236975</td>\n",
              "      <td>Other Sister, The (1999)</td>\n",
              "      <td>Comedy|Drama|Romance</td>\n",
              "    </tr>\n",
              "    <tr>\n",
              "      <th>478</th>\n",
              "      <td>6</td>\n",
              "      <td>F</td>\n",
              "      <td>50</td>\n",
              "      <td>9</td>\n",
              "      <td>55117</td>\n",
              "      <td>3524</td>\n",
              "      <td>3</td>\n",
              "      <td>978236719</td>\n",
              "      <td>Arthur (1981)</td>\n",
              "      <td>Comedy|Romance</td>\n",
              "    </tr>\n",
              "    <tr>\n",
              "      <th>479</th>\n",
              "      <td>6</td>\n",
              "      <td>F</td>\n",
              "      <td>50</td>\n",
              "      <td>9</td>\n",
              "      <td>55117</td>\n",
              "      <td>1566</td>\n",
              "      <td>4</td>\n",
              "      <td>978237570</td>\n",
              "      <td>Hercules (1997)</td>\n",
              "      <td>Adventure|Animation|Children's|Comedy|Musical</td>\n",
              "    </tr>\n",
              "    <tr>\n",
              "      <th>480</th>\n",
              "      <td>6</td>\n",
              "      <td>F</td>\n",
              "      <td>50</td>\n",
              "      <td>9</td>\n",
              "      <td>55117</td>\n",
              "      <td>1569</td>\n",
              "      <td>4</td>\n",
              "      <td>978238948</td>\n",
              "      <td>My Best Friend's Wedding (1997)</td>\n",
              "      <td>Comedy|Romance</td>\n",
              "    </tr>\n",
              "    <tr>\n",
              "      <th>481</th>\n",
              "      <td>6</td>\n",
              "      <td>F</td>\n",
              "      <td>50</td>\n",
              "      <td>9</td>\n",
              "      <td>55117</td>\n",
              "      <td>2006</td>\n",
              "      <td>4</td>\n",
              "      <td>978236122</td>\n",
              "      <td>Mask of Zorro, The (1998)</td>\n",
              "      <td>Action|Adventure|Romance</td>\n",
              "    </tr>\n",
              "    <tr>\n",
              "      <th>482</th>\n",
              "      <td>6</td>\n",
              "      <td>F</td>\n",
              "      <td>50</td>\n",
              "      <td>9</td>\n",
              "      <td>55117</td>\n",
              "      <td>2081</td>\n",
              "      <td>4</td>\n",
              "      <td>978236567</td>\n",
              "      <td>Little Mermaid, The (1989)</td>\n",
              "      <td>Animation|Children's|Comedy|Musical|Romance</td>\n",
              "    </tr>\n",
              "    <tr>\n",
              "      <th>483</th>\n",
              "      <td>6</td>\n",
              "      <td>F</td>\n",
              "      <td>50</td>\n",
              "      <td>9</td>\n",
              "      <td>55117</td>\n",
              "      <td>2082</td>\n",
              "      <td>3</td>\n",
              "      <td>978236975</td>\n",
              "      <td>Mighty Ducks, The (1992)</td>\n",
              "      <td>Children's|Comedy</td>\n",
              "    </tr>\n",
              "    <tr>\n",
              "      <th>484</th>\n",
              "      <td>6</td>\n",
              "      <td>F</td>\n",
              "      <td>50</td>\n",
              "      <td>9</td>\n",
              "      <td>55117</td>\n",
              "      <td>3600</td>\n",
              "      <td>3</td>\n",
              "      <td>978237813</td>\n",
              "      <td>Blue Hawaii (1961)</td>\n",
              "      <td>Comedy|Musical</td>\n",
              "    </tr>\n",
              "    <tr>\n",
              "      <th>485</th>\n",
              "      <td>6</td>\n",
              "      <td>F</td>\n",
              "      <td>50</td>\n",
              "      <td>9</td>\n",
              "      <td>55117</td>\n",
              "      <td>3604</td>\n",
              "      <td>5</td>\n",
              "      <td>978237767</td>\n",
              "      <td>Gypsy (1962)</td>\n",
              "      <td>Musical</td>\n",
              "    </tr>\n",
              "    <tr>\n",
              "      <th>486</th>\n",
              "      <td>6</td>\n",
              "      <td>F</td>\n",
              "      <td>50</td>\n",
              "      <td>9</td>\n",
              "      <td>55117</td>\n",
              "      <td>2802</td>\n",
              "      <td>4</td>\n",
              "      <td>978236612</td>\n",
              "      <td>Tequila Sunrise (1988)</td>\n",
              "      <td>Action|Romance|Thriller</td>\n",
              "    </tr>\n",
              "    <tr>\n",
              "      <th>487</th>\n",
              "      <td>6</td>\n",
              "      <td>F</td>\n",
              "      <td>50</td>\n",
              "      <td>9</td>\n",
              "      <td>55117</td>\n",
              "      <td>3534</td>\n",
              "      <td>4</td>\n",
              "      <td>978236219</td>\n",
              "      <td>28 Days (2000)</td>\n",
              "      <td>Comedy</td>\n",
              "    </tr>\n",
              "    <tr>\n",
              "      <th>488</th>\n",
              "      <td>6</td>\n",
              "      <td>F</td>\n",
              "      <td>50</td>\n",
              "      <td>9</td>\n",
              "      <td>55117</td>\n",
              "      <td>3536</td>\n",
              "      <td>5</td>\n",
              "      <td>978238230</td>\n",
              "      <td>Keeping the Faith (2000)</td>\n",
              "      <td>Comedy|Romance</td>\n",
              "    </tr>\n",
              "    <tr>\n",
              "      <th>489</th>\n",
              "      <td>6</td>\n",
              "      <td>F</td>\n",
              "      <td>50</td>\n",
              "      <td>9</td>\n",
              "      <td>55117</td>\n",
              "      <td>1210</td>\n",
              "      <td>3</td>\n",
              "      <td>978236219</td>\n",
              "      <td>Star Wars: Episode VI - Return of the Jedi (1983)</td>\n",
              "      <td>Action|Adventure|Romance|Sci-Fi|War</td>\n",
              "    </tr>\n",
              "    <tr>\n",
              "      <th>490</th>\n",
              "      <td>6</td>\n",
              "      <td>F</td>\n",
              "      <td>50</td>\n",
              "      <td>9</td>\n",
              "      <td>55117</td>\n",
              "      <td>3753</td>\n",
              "      <td>5</td>\n",
              "      <td>978238195</td>\n",
              "      <td>Patriot, The (2000)</td>\n",
              "      <td>Action|Drama|War</td>\n",
              "    </tr>\n",
              "    <tr>\n",
              "      <th>491</th>\n",
              "      <td>6</td>\n",
              "      <td>F</td>\n",
              "      <td>50</td>\n",
              "      <td>9</td>\n",
              "      <td>55117</td>\n",
              "      <td>3682</td>\n",
              "      <td>3</td>\n",
              "      <td>978238036</td>\n",
              "      <td>Magnum Force (1973)</td>\n",
              "      <td>Western</td>\n",
              "    </tr>\n",
              "    <tr>\n",
              "      <th>492</th>\n",
              "      <td>6</td>\n",
              "      <td>F</td>\n",
              "      <td>50</td>\n",
              "      <td>9</td>\n",
              "      <td>55117</td>\n",
              "      <td>2017</td>\n",
              "      <td>3</td>\n",
              "      <td>978237813</td>\n",
              "      <td>Babes in Toyland (1961)</td>\n",
              "      <td>Children's|Fantasy|Musical</td>\n",
              "    </tr>\n",
              "    <tr>\n",
              "      <th>493</th>\n",
              "      <td>6</td>\n",
              "      <td>F</td>\n",
              "      <td>50</td>\n",
              "      <td>9</td>\n",
              "      <td>55117</td>\n",
              "      <td>3685</td>\n",
              "      <td>3</td>\n",
              "      <td>978236519</td>\n",
              "      <td>Prizzi's Honor (1985)</td>\n",
              "      <td>Comedy|Drama|Romance</td>\n",
              "    </tr>\n",
              "    <tr>\n",
              "      <th>494</th>\n",
              "      <td>6</td>\n",
              "      <td>F</td>\n",
              "      <td>50</td>\n",
              "      <td>9</td>\n",
              "      <td>55117</td>\n",
              "      <td>3610</td>\n",
              "      <td>3</td>\n",
              "      <td>978237813</td>\n",
              "      <td>Roustabout (1964)</td>\n",
              "      <td>Musical</td>\n",
              "    </tr>\n",
              "    <tr>\n",
              "      <th>495</th>\n",
              "      <td>6</td>\n",
              "      <td>F</td>\n",
              "      <td>50</td>\n",
              "      <td>9</td>\n",
              "      <td>55117</td>\n",
              "      <td>1296</td>\n",
              "      <td>3</td>\n",
              "      <td>978236519</td>\n",
              "      <td>Room with a View, A (1986)</td>\n",
              "      <td>Drama|Romance</td>\n",
              "    </tr>\n",
              "    <tr>\n",
              "      <th>496</th>\n",
              "      <td>6</td>\n",
              "      <td>F</td>\n",
              "      <td>50</td>\n",
              "      <td>9</td>\n",
              "      <td>55117</td>\n",
              "      <td>838</td>\n",
              "      <td>4</td>\n",
              "      <td>978237444</td>\n",
              "      <td>Emma (1996)</td>\n",
              "      <td>Comedy|Drama|Romance</td>\n",
              "    </tr>\n",
              "    <tr>\n",
              "      <th>497</th>\n",
              "      <td>6</td>\n",
              "      <td>F</td>\n",
              "      <td>50</td>\n",
              "      <td>9</td>\n",
              "      <td>55117</td>\n",
              "      <td>1007</td>\n",
              "      <td>3</td>\n",
              "      <td>978238036</td>\n",
              "      <td>Apple Dumpling Gang, The (1975)</td>\n",
              "      <td>Children's|Comedy|Western</td>\n",
              "    </tr>\n",
              "    <tr>\n",
              "      <th>498</th>\n",
              "      <td>6</td>\n",
              "      <td>F</td>\n",
              "      <td>50</td>\n",
              "      <td>9</td>\n",
              "      <td>55117</td>\n",
              "      <td>1947</td>\n",
              "      <td>5</td>\n",
              "      <td>978237767</td>\n",
              "      <td>West Side Story (1961)</td>\n",
              "      <td>Musical|Romance</td>\n",
              "    </tr>\n",
              "    <tr>\n",
              "      <th>499</th>\n",
              "      <td>6</td>\n",
              "      <td>F</td>\n",
              "      <td>50</td>\n",
              "      <td>9</td>\n",
              "      <td>55117</td>\n",
              "      <td>2966</td>\n",
              "      <td>5</td>\n",
              "      <td>978237273</td>\n",
              "      <td>Straight Story, The (1999)</td>\n",
              "      <td>Drama</td>\n",
              "    </tr>\n",
              "  </tbody>\n",
              "</table>\n",
              "<p>500 rows × 10 columns</p>\n",
              "</div>"
            ],
            "text/plain": [
              "     UserID  ...                                         Genres\n",
              "0         1  ...                                          Drama\n",
              "1         1  ...                   Animation|Children's|Musical\n",
              "2         1  ...                                Musical|Romance\n",
              "3         1  ...                                          Drama\n",
              "4         1  ...                    Animation|Children's|Comedy\n",
              "5         1  ...                Action|Adventure|Comedy|Romance\n",
              "6         1  ...                         Action|Adventure|Drama\n",
              "7         1  ...                                   Comedy|Drama\n",
              "8         1  ...                   Animation|Children's|Musical\n",
              "9         1  ...             Adventure|Children's|Drama|Musical\n",
              "10        1  ...                   Animation|Children's|Musical\n",
              "11        1  ...                                        Musical\n",
              "12        1  ...                                          Drama\n",
              "13        1  ...                                         Comedy\n",
              "14        1  ...                                        Musical\n",
              "15        1  ...                                         Comedy\n",
              "16        1  ...                           Animation|Children's\n",
              "17        1  ...                           Animation|Children's\n",
              "18        1  ...                                          Drama\n",
              "19        1  ...                                 Comedy|Fantasy\n",
              "20        1  ...                                         Comedy\n",
              "21        1  ...                                      Animation\n",
              "22        1  ...                                  Comedy|Sci-Fi\n",
              "23        1  ...                                      Drama|War\n",
              "24        1  ...                                        Romance\n",
              "25        1  ...           Animation|Children's|Musical|Romance\n",
              "26        1  ...                Children's|Drama|Fantasy|Sci-Fi\n",
              "27        1  ...                                  Drama|Romance\n",
              "28        1  ...                                          Drama\n",
              "29        1  ...                      Animation|Comedy|Thriller\n",
              "..      ...  ...                                            ...\n",
              "470       6  ...                                  Drama|Romance\n",
              "471       6  ...                                   Comedy|Drama\n",
              "472       6  ...                        Action|Romance|Thriller\n",
              "473       6  ...                        Adventure|Drama|Western\n",
              "474       6  ...                   Animation|Children's|Musical\n",
              "475       6  ...                                 Comedy|Romance\n",
              "476       6  ...                                        Western\n",
              "477       6  ...                           Comedy|Drama|Romance\n",
              "478       6  ...                                 Comedy|Romance\n",
              "479       6  ...  Adventure|Animation|Children's|Comedy|Musical\n",
              "480       6  ...                                 Comedy|Romance\n",
              "481       6  ...                       Action|Adventure|Romance\n",
              "482       6  ...    Animation|Children's|Comedy|Musical|Romance\n",
              "483       6  ...                              Children's|Comedy\n",
              "484       6  ...                                 Comedy|Musical\n",
              "485       6  ...                                        Musical\n",
              "486       6  ...                        Action|Romance|Thriller\n",
              "487       6  ...                                         Comedy\n",
              "488       6  ...                                 Comedy|Romance\n",
              "489       6  ...            Action|Adventure|Romance|Sci-Fi|War\n",
              "490       6  ...                               Action|Drama|War\n",
              "491       6  ...                                        Western\n",
              "492       6  ...                     Children's|Fantasy|Musical\n",
              "493       6  ...                           Comedy|Drama|Romance\n",
              "494       6  ...                                        Musical\n",
              "495       6  ...                                  Drama|Romance\n",
              "496       6  ...                           Comedy|Drama|Romance\n",
              "497       6  ...                      Children's|Comedy|Western\n",
              "498       6  ...                                Musical|Romance\n",
              "499       6  ...                                          Drama\n",
              "\n",
              "[500 rows x 10 columns]"
            ]
          },
          "metadata": {
            "tags": []
          },
          "execution_count": 36
        }
      ]
    },
    {
      "cell_type": "code",
      "metadata": {
        "id": "8zdMUq14mMov",
        "colab_type": "code",
        "outputId": "7db8bf0a-8057-447d-ff89-1c82168adb39",
        "colab": {
          "base_uri": "https://localhost:8080/",
          "height": 34
        }
      },
      "source": [
        "ml_Data.shape"
      ],
      "execution_count": 0,
      "outputs": [
        {
          "output_type": "execute_result",
          "data": {
            "text/plain": [
              "(500, 10)"
            ]
          },
          "metadata": {
            "tags": []
          },
          "execution_count": 37
        }
      ]
    },
    {
      "cell_type": "code",
      "metadata": {
        "id": "Fy9fiLGHmMox",
        "colab_type": "code",
        "outputId": "132d6c5f-d593-4960-9308-e5f9b423c9d3",
        "colab": {
          "base_uri": "https://localhost:8080/",
          "height": 297
        }
      },
      "source": [
        "ml_Data.describe()"
      ],
      "execution_count": 0,
      "outputs": [
        {
          "output_type": "execute_result",
          "data": {
            "text/html": [
              "<div>\n",
              "<style scoped>\n",
              "    .dataframe tbody tr th:only-of-type {\n",
              "        vertical-align: middle;\n",
              "    }\n",
              "\n",
              "    .dataframe tbody tr th {\n",
              "        vertical-align: top;\n",
              "    }\n",
              "\n",
              "    .dataframe thead th {\n",
              "        text-align: right;\n",
              "    }\n",
              "</style>\n",
              "<table border=\"1\" class=\"dataframe\">\n",
              "  <thead>\n",
              "    <tr style=\"text-align: right;\">\n",
              "      <th></th>\n",
              "      <th>UserID</th>\n",
              "      <th>Age</th>\n",
              "      <th>Occupation</th>\n",
              "      <th>MovieID</th>\n",
              "      <th>Rating</th>\n",
              "      <th>Timestamp</th>\n",
              "    </tr>\n",
              "  </thead>\n",
              "  <tbody>\n",
              "    <tr>\n",
              "      <th>count</th>\n",
              "      <td>500.000000</td>\n",
              "      <td>500.000000</td>\n",
              "      <td>500.000000</td>\n",
              "      <td>500.000000</td>\n",
              "      <td>500.000000</td>\n",
              "      <td>5.000000e+02</td>\n",
              "    </tr>\n",
              "    <tr>\n",
              "      <th>mean</th>\n",
              "      <td>3.652000</td>\n",
              "      <td>33.694000</td>\n",
              "      <td>15.796000</td>\n",
              "      <td>1778.060000</td>\n",
              "      <td>3.592000</td>\n",
              "      <td>9.782851e+08</td>\n",
              "    </tr>\n",
              "    <tr>\n",
              "      <th>std</th>\n",
              "      <td>1.659036</td>\n",
              "      <td>17.630372</td>\n",
              "      <td>4.284285</td>\n",
              "      <td>1067.403452</td>\n",
              "      <td>1.088073</td>\n",
              "      <td>9.241357e+04</td>\n",
              "    </tr>\n",
              "    <tr>\n",
              "      <th>min</th>\n",
              "      <td>1.000000</td>\n",
              "      <td>1.000000</td>\n",
              "      <td>7.000000</td>\n",
              "      <td>1.000000</td>\n",
              "      <td>1.000000</td>\n",
              "      <td>9.782361e+08</td>\n",
              "    </tr>\n",
              "    <tr>\n",
              "      <th>25%</th>\n",
              "      <td>2.000000</td>\n",
              "      <td>25.000000</td>\n",
              "      <td>15.000000</td>\n",
              "      <td>991.000000</td>\n",
              "      <td>3.000000</td>\n",
              "      <td>9.782445e+08</td>\n",
              "    </tr>\n",
              "    <tr>\n",
              "      <th>50%</th>\n",
              "      <td>4.000000</td>\n",
              "      <td>25.000000</td>\n",
              "      <td>16.000000</td>\n",
              "      <td>1683.500000</td>\n",
              "      <td>4.000000</td>\n",
              "      <td>9.782940e+08</td>\n",
              "    </tr>\n",
              "    <tr>\n",
              "      <th>75%</th>\n",
              "      <td>5.000000</td>\n",
              "      <td>56.000000</td>\n",
              "      <td>20.000000</td>\n",
              "      <td>2716.250000</td>\n",
              "      <td>4.000000</td>\n",
              "      <td>9.782992e+08</td>\n",
              "    </tr>\n",
              "    <tr>\n",
              "      <th>max</th>\n",
              "      <td>6.000000</td>\n",
              "      <td>56.000000</td>\n",
              "      <td>20.000000</td>\n",
              "      <td>3893.000000</td>\n",
              "      <td>5.000000</td>\n",
              "      <td>9.788244e+08</td>\n",
              "    </tr>\n",
              "  </tbody>\n",
              "</table>\n",
              "</div>"
            ],
            "text/plain": [
              "           UserID         Age  ...      Rating     Timestamp\n",
              "count  500.000000  500.000000  ...  500.000000  5.000000e+02\n",
              "mean     3.652000   33.694000  ...    3.592000  9.782851e+08\n",
              "std      1.659036   17.630372  ...    1.088073  9.241357e+04\n",
              "min      1.000000    1.000000  ...    1.000000  9.782361e+08\n",
              "25%      2.000000   25.000000  ...    3.000000  9.782445e+08\n",
              "50%      4.000000   25.000000  ...    4.000000  9.782940e+08\n",
              "75%      5.000000   56.000000  ...    4.000000  9.782992e+08\n",
              "max      6.000000   56.000000  ...    5.000000  9.788244e+08\n",
              "\n",
              "[8 rows x 6 columns]"
            ]
          },
          "metadata": {
            "tags": []
          },
          "execution_count": 38
        }
      ]
    },
    {
      "cell_type": "code",
      "metadata": {
        "id": "K2oDil9umMo0",
        "colab_type": "code",
        "outputId": "fa334845-d765-4af4-ebea-9b6fbaafd815",
        "colab": {
          "base_uri": "https://localhost:8080/",
          "height": 272
        }
      },
      "source": [
        "ml_Data.info()"
      ],
      "execution_count": 0,
      "outputs": [
        {
          "output_type": "stream",
          "text": [
            "<class 'pandas.core.frame.DataFrame'>\n",
            "Int64Index: 500 entries, 0 to 499\n",
            "Data columns (total 10 columns):\n",
            "UserID        500 non-null int64\n",
            "Gender        500 non-null object\n",
            "Age           500 non-null int64\n",
            "Occupation    500 non-null int64\n",
            "Zip-code      500 non-null object\n",
            "MovieID       500 non-null int64\n",
            "Rating        500 non-null int64\n",
            "Timestamp     500 non-null int64\n",
            "Title         500 non-null object\n",
            "Genres        500 non-null object\n",
            "dtypes: int64(6), object(4)\n",
            "memory usage: 43.0+ KB\n"
          ],
          "name": "stdout"
        }
      ]
    },
    {
      "cell_type": "markdown",
      "metadata": {
        "id": "BUT0Jy8emMo2",
        "colab_type": "text"
      },
      "source": [
        "- Features (MovieID, Age,Occupation)\n",
        "- Label (Rating)"
      ]
    },
    {
      "cell_type": "markdown",
      "metadata": {
        "id": "TwjDzUPRmMo5",
        "colab_type": "text"
      },
      "source": [
        "#### Label (Rating) is an Ordinal so we should use Multiclass Classification\n"
      ]
    },
    {
      "cell_type": "code",
      "metadata": {
        "id": "LbHXMAzYmMo6",
        "colab_type": "code",
        "outputId": "eecfbc4f-8abf-4ee1-c3f7-9457ddba891b",
        "colab": {
          "base_uri": "https://localhost:8080/",
          "height": 34
        }
      },
      "source": [
        "ml_Data['Age'].unique()"
      ],
      "execution_count": 0,
      "outputs": [
        {
          "output_type": "execute_result",
          "data": {
            "text/plain": [
              "array([ 1, 56, 25, 45, 50])"
            ]
          },
          "metadata": {
            "tags": []
          },
          "execution_count": 40
        }
      ]
    },
    {
      "cell_type": "code",
      "metadata": {
        "id": "_xsng8KymMo8",
        "colab_type": "code",
        "outputId": "4127ada4-caf0-4d0f-d0de-9b936e6ad8cc",
        "colab": {
          "base_uri": "https://localhost:8080/",
          "height": 34
        }
      },
      "source": [
        "ml_Data['Occupation'].unique()"
      ],
      "execution_count": 0,
      "outputs": [
        {
          "output_type": "execute_result",
          "data": {
            "text/plain": [
              "array([10, 16, 15,  7, 20,  9])"
            ]
          },
          "metadata": {
            "tags": []
          },
          "execution_count": 41
        }
      ]
    },
    {
      "cell_type": "code",
      "metadata": {
        "id": "hOY4IoTDmMo-",
        "colab_type": "code",
        "outputId": "12c6f725-8ff2-47af-e529-a3b17fe42e9a",
        "colab": {
          "base_uri": "https://localhost:8080/",
          "height": 204
        }
      },
      "source": [
        "ml_Data.head()"
      ],
      "execution_count": 0,
      "outputs": [
        {
          "output_type": "execute_result",
          "data": {
            "text/html": [
              "<div>\n",
              "<style scoped>\n",
              "    .dataframe tbody tr th:only-of-type {\n",
              "        vertical-align: middle;\n",
              "    }\n",
              "\n",
              "    .dataframe tbody tr th {\n",
              "        vertical-align: top;\n",
              "    }\n",
              "\n",
              "    .dataframe thead th {\n",
              "        text-align: right;\n",
              "    }\n",
              "</style>\n",
              "<table border=\"1\" class=\"dataframe\">\n",
              "  <thead>\n",
              "    <tr style=\"text-align: right;\">\n",
              "      <th></th>\n",
              "      <th>UserID</th>\n",
              "      <th>Gender</th>\n",
              "      <th>Age</th>\n",
              "      <th>Occupation</th>\n",
              "      <th>Zip-code</th>\n",
              "      <th>MovieID</th>\n",
              "      <th>Rating</th>\n",
              "      <th>Timestamp</th>\n",
              "      <th>Title</th>\n",
              "      <th>Genres</th>\n",
              "    </tr>\n",
              "  </thead>\n",
              "  <tbody>\n",
              "    <tr>\n",
              "      <th>0</th>\n",
              "      <td>1</td>\n",
              "      <td>F</td>\n",
              "      <td>1</td>\n",
              "      <td>10</td>\n",
              "      <td>48067</td>\n",
              "      <td>1193</td>\n",
              "      <td>5</td>\n",
              "      <td>978300760</td>\n",
              "      <td>One Flew Over the Cuckoo's Nest (1975)</td>\n",
              "      <td>Drama</td>\n",
              "    </tr>\n",
              "    <tr>\n",
              "      <th>1</th>\n",
              "      <td>1</td>\n",
              "      <td>F</td>\n",
              "      <td>1</td>\n",
              "      <td>10</td>\n",
              "      <td>48067</td>\n",
              "      <td>661</td>\n",
              "      <td>3</td>\n",
              "      <td>978302109</td>\n",
              "      <td>James and the Giant Peach (1996)</td>\n",
              "      <td>Animation|Children's|Musical</td>\n",
              "    </tr>\n",
              "    <tr>\n",
              "      <th>2</th>\n",
              "      <td>1</td>\n",
              "      <td>F</td>\n",
              "      <td>1</td>\n",
              "      <td>10</td>\n",
              "      <td>48067</td>\n",
              "      <td>914</td>\n",
              "      <td>3</td>\n",
              "      <td>978301968</td>\n",
              "      <td>My Fair Lady (1964)</td>\n",
              "      <td>Musical|Romance</td>\n",
              "    </tr>\n",
              "    <tr>\n",
              "      <th>3</th>\n",
              "      <td>1</td>\n",
              "      <td>F</td>\n",
              "      <td>1</td>\n",
              "      <td>10</td>\n",
              "      <td>48067</td>\n",
              "      <td>3408</td>\n",
              "      <td>4</td>\n",
              "      <td>978300275</td>\n",
              "      <td>Erin Brockovich (2000)</td>\n",
              "      <td>Drama</td>\n",
              "    </tr>\n",
              "    <tr>\n",
              "      <th>4</th>\n",
              "      <td>1</td>\n",
              "      <td>F</td>\n",
              "      <td>1</td>\n",
              "      <td>10</td>\n",
              "      <td>48067</td>\n",
              "      <td>2355</td>\n",
              "      <td>5</td>\n",
              "      <td>978824291</td>\n",
              "      <td>Bug's Life, A (1998)</td>\n",
              "      <td>Animation|Children's|Comedy</td>\n",
              "    </tr>\n",
              "  </tbody>\n",
              "</table>\n",
              "</div>"
            ],
            "text/plain": [
              "   UserID  ...                        Genres\n",
              "0       1  ...                         Drama\n",
              "1       1  ...  Animation|Children's|Musical\n",
              "2       1  ...               Musical|Romance\n",
              "3       1  ...                         Drama\n",
              "4       1  ...   Animation|Children's|Comedy\n",
              "\n",
              "[5 rows x 10 columns]"
            ]
          },
          "metadata": {
            "tags": []
          },
          "execution_count": 42
        }
      ]
    },
    {
      "cell_type": "code",
      "metadata": {
        "id": "i4J0Ib0cmMpC",
        "colab_type": "code",
        "outputId": "a41fdb3f-046e-4576-df9a-ed933c2a38ee",
        "colab": {
          "base_uri": "https://localhost:8080/",
          "height": 111
        }
      },
      "source": [
        "f = ml_Data.iloc[:,[5,2,3]]\n",
        "f.head(2)"
      ],
      "execution_count": 0,
      "outputs": [
        {
          "output_type": "execute_result",
          "data": {
            "text/html": [
              "<div>\n",
              "<style scoped>\n",
              "    .dataframe tbody tr th:only-of-type {\n",
              "        vertical-align: middle;\n",
              "    }\n",
              "\n",
              "    .dataframe tbody tr th {\n",
              "        vertical-align: top;\n",
              "    }\n",
              "\n",
              "    .dataframe thead th {\n",
              "        text-align: right;\n",
              "    }\n",
              "</style>\n",
              "<table border=\"1\" class=\"dataframe\">\n",
              "  <thead>\n",
              "    <tr style=\"text-align: right;\">\n",
              "      <th></th>\n",
              "      <th>MovieID</th>\n",
              "      <th>Age</th>\n",
              "      <th>Occupation</th>\n",
              "    </tr>\n",
              "  </thead>\n",
              "  <tbody>\n",
              "    <tr>\n",
              "      <th>0</th>\n",
              "      <td>1193</td>\n",
              "      <td>1</td>\n",
              "      <td>10</td>\n",
              "    </tr>\n",
              "    <tr>\n",
              "      <th>1</th>\n",
              "      <td>661</td>\n",
              "      <td>1</td>\n",
              "      <td>10</td>\n",
              "    </tr>\n",
              "  </tbody>\n",
              "</table>\n",
              "</div>"
            ],
            "text/plain": [
              "   MovieID  Age  Occupation\n",
              "0     1193    1          10\n",
              "1      661    1          10"
            ]
          },
          "metadata": {
            "tags": []
          },
          "execution_count": 43
        }
      ]
    },
    {
      "cell_type": "code",
      "metadata": {
        "id": "Md1LGw41mMpD",
        "colab_type": "code",
        "outputId": "52a0b909-7760-42b5-de01-50f8b4f71ccb",
        "colab": {
          "base_uri": "https://localhost:8080/",
          "height": 68
        }
      },
      "source": [
        "l = ml_Data.iloc[:,6]\n",
        "l.head(2)"
      ],
      "execution_count": 0,
      "outputs": [
        {
          "output_type": "execute_result",
          "data": {
            "text/plain": [
              "0    5\n",
              "1    3\n",
              "Name: Rating, dtype: int64"
            ]
          },
          "metadata": {
            "tags": []
          },
          "execution_count": 44
        }
      ]
    },
    {
      "cell_type": "markdown",
      "metadata": {
        "id": "shlUsnKNmMpF",
        "colab_type": "text"
      },
      "source": [
        "#### For classification use-case your label must be a 1-D array"
      ]
    },
    {
      "cell_type": "code",
      "metadata": {
        "id": "8LYc-zqpmMpG",
        "colab_type": "code",
        "colab": {}
      },
      "source": [
        "features = f.values\n",
        "label = l.values"
      ],
      "execution_count": 0,
      "outputs": []
    },
    {
      "cell_type": "code",
      "metadata": {
        "id": "EQIH-Dh5mMpJ",
        "colab_type": "code",
        "outputId": "b60cb671-78d1-45fe-e575-9b34352c15df",
        "colab": {
          "base_uri": "https://localhost:8080/",
          "height": 34
        }
      },
      "source": [
        "#Training Score 0.3925 Testing Score 0.52 for Random State 366 and n_neighbors 52\n",
        "from sklearn.model_selection import train_test_split\n",
        "from sklearn.neighbors import KNeighborsClassifier\n",
        "X_train,X_test,Y_train,Y_test = train_test_split(features,label,test_size=0.2, random_state=366 )\n",
        "model = KNeighborsClassifier(n_neighbors = 52)\n",
        "model.fit(X_train,Y_train)\n",
        "training_score = model.score(X_train,Y_train)\n",
        "testing_score = model.score(X_test,Y_test)\n",
        "# Only Generalized model will be outputted\n",
        "if testing_score > training_score:\n",
        "    print(\"Training Score {} Testing Score {} \".format(training_score,testing_score))"
      ],
      "execution_count": 69,
      "outputs": [
        {
          "output_type": "stream",
          "text": [
            "Training Score 0.3925 Testing Score 0.52 \n"
          ],
          "name": "stdout"
        }
      ]
    },
    {
      "cell_type": "code",
      "metadata": {
        "id": "79NqdkqvmMpO",
        "colab_type": "code",
        "outputId": "095f4052-b7d0-4bed-8cb2-ffcac0be37bf",
        "colab": {
          "base_uri": "https://localhost:8080/",
          "height": 85
        }
      },
      "source": [
        "movieid = int(input(\"Enter the MovieID: \"))\n",
        "age = int(input(\"Enter the Age Group( 1, 56, 25, 45, 50):\"))\n",
        "occupation = int(input(\"Enter the Occupation group value (10, 16, 15,  7, 20,  9):\"))\n",
        "\n",
        "featureInput = np.array([[movieid,age,occupation]])\n",
        "rating = model.predict(featureInput)\n",
        "print(\"Rating of the Movie is: \", rating)"
      ],
      "execution_count": 70,
      "outputs": [
        {
          "output_type": "stream",
          "text": [
            "Enter the MovieID: 2858\n",
            "Enter the Age Group( 1, 56, 25, 45, 50):25\n",
            "Enter the Occupation group value (10, 16, 15,  7, 20,  9):10\n",
            "Rating of the Movie is:  [4]\n"
          ],
          "name": "stdout"
        }
      ]
    },
    {
      "cell_type": "markdown",
      "metadata": {
        "id": "ECXvMGVNmMpq",
        "colab_type": "text"
      },
      "source": [
        "#### Thank you"
      ]
    },
    {
      "cell_type": "code",
      "metadata": {
        "id": "UVUwyl3UoJWi",
        "colab_type": "code",
        "colab": {}
      },
      "source": [
        ""
      ],
      "execution_count": 0,
      "outputs": []
    }
  ]
}